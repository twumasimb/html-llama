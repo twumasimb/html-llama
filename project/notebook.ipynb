{
 "cells": [
  {
   "cell_type": "code",
   "execution_count": 2,
   "metadata": {},
   "outputs": [],
   "source": [
    "import argparse\n",
    "import random\n",
    "import logging\n",
    "from tqdm import tqdm\n",
    "from resources import webpage_purposes\n",
    "from utils import save_json, llm_generate\n",
    "from generate_prompts import generate_prompts"
   ]
  },
  {
   "cell_type": "code",
   "execution_count": 2,
   "metadata": {},
   "outputs": [],
   "source": [
    "# utils.py\n",
    "import json\n",
    "import re\n",
    "import logging\n",
    "from transformers import pipeline\n",
    "from tqdm import tqdm\n",
    "import requests\n",
    "from typing import Optional\n",
    "\n",
    "def llm_generate(prompt: str) -> Optional[str]:\n",
    "    \"\"\"Generate response using local CodeLlama API\"\"\"\n",
    "    try:\n",
    "        response = requests.post(\n",
    "            \"http://localhost:11434/api/generate\",\n",
    "            json={\"model\": \"deepseek-r1:32b\", \"prompt\": prompt}\n",
    "        )\n",
    "        \n",
    "        # Concatenate all response chunks\n",
    "        full_response = \"\"\n",
    "        for line in response.iter_lines():\n",
    "            if line:\n",
    "                json_response = json.loads(line)\n",
    "                if 'response' in json_response:\n",
    "                    full_response += json_response['response']\n",
    "        \n",
    "        # Extract response after </think> tag if present\n",
    "        if '</think>' in full_response:\n",
    "            full_response = full_response.split('</think>')[-1].strip()\n",
    "            # Split by newlines and take everything after the first empty line\n",
    "            if '\\n\\n' in full_response:\n",
    "                full_response = full_response.split('\\n\\n', 1)[1].strip()\n",
    "            \n",
    "        return full_response\n",
    "    except Exception as e:\n",
    "        print(f\"Error generating with CodeLlama: {str(e)}\")\n",
    "        return None"
   ]
  },
  {
   "cell_type": "markdown",
   "metadata": {},
   "source": [
    "#### Create a small dataset 4000 data points max"
   ]
  },
  {
   "cell_type": "code",
   "execution_count": 9,
   "metadata": {},
   "outputs": [],
   "source": [
    "import json\n",
    "\n",
    "with open('./old_datasets/final_dataset_old_data/final_dataset.json', 'r') as f:\n",
    "    data = json.load(f)"
   ]
  },
  {
   "cell_type": "code",
   "execution_count": 3,
   "metadata": {},
   "outputs": [
    {
     "name": "stdout",
     "output_type": "stream",
     "text": [
      "Number of selected prompts: 4000\n"
     ]
    }
   ],
   "source": [
    "import random\n",
    "\n",
    "# Randomly select 4000 items\n",
    "selected_data = random.sample(data, 4000)\n",
    "\n",
    "# Extract prompts from selected items\n",
    "prompts = [item['prompt'] for item in selected_data]\n",
    "\n",
    "# Save the selected data for future use\n",
    "selected_data_with_all_fields = selected_data\n",
    "\n",
    "print(f\"Number of selected prompts: {len(prompts)}\")"
   ]
  },
  {
   "cell_type": "code",
   "execution_count": 7,
   "metadata": {},
   "outputs": [],
   "source": [
    "with open('old_dataset_4000.json', 'w') as f:\n",
    "    json.dump(selected_data, f, indent=4)"
   ]
  },
  {
   "cell_type": "code",
   "execution_count": null,
   "metadata": {},
   "outputs": [],
   "source": []
  },
  {
   "cell_type": "markdown",
   "metadata": {},
   "source": [
    "#### Convert json dataset to HF dataset"
   ]
  },
  {
   "cell_type": "code",
   "execution_count": 4,
   "metadata": {},
   "outputs": [
    {
     "name": "stdout",
     "output_type": "stream",
     "text": [
      "<!DOCTYPE html><html><body>Hello world!</body></html>\n"
     ]
    }
   ],
   "source": [
    "def remove_before_doctype(input_string):\n",
    "    doctype_index = input_string.find('<!DOCTYPE html>')\n",
    "    \n",
    "    if doctype_index == -1:\n",
    "        # If the doctype tag doesn't exist in the string\n",
    "        return input_string\n",
    "    \n",
    "    # Return only the part of the string starting from the doctype tag\n",
    "    return input_string[doctype_index:]\n",
    "\n",
    "# Example usage:\n",
    "html_string = \"Some unwanted content here <!DOCTYPE html><html><body>Hello world!</body></html>\"\n",
    "cleaned_string = remove_before_doctype(html_string)\n",
    "print(cleaned_string)\n",
    "# Output: <!DOCTYPE html><html><body>Hello world!</body></html>"
   ]
  },
  {
   "cell_type": "code",
   "execution_count": 8,
   "metadata": {},
   "outputs": [
    {
     "name": "stdout",
     "output_type": "stream",
     "text": [
      "<!DOCTYPE html><html><body>Hello world!</body></html>\n"
     ]
    }
   ],
   "source": [
    "import re\n",
    "\n",
    "def clean_html_string(input_string):\n",
    "    # Find the doctype tag\n",
    "    doctype_index = input_string.find('<!DOCTYPE html>')\n",
    "    \n",
    "    if doctype_index == -1:\n",
    "        # If the doctype tag doesn't exist in the string\n",
    "        cleaned_string = input_string\n",
    "    else:\n",
    "        # Return only the part of the string starting from the doctype tag\n",
    "        cleaned_string = input_string[doctype_index:]\n",
    "    \n",
    "    # Remove everything after </html> tag if it exists\n",
    "    html_end_pattern = r'(</html>)[\\s\\S]*$'\n",
    "    cleaned_string = re.sub(html_end_pattern, r'\\1', cleaned_string)\n",
    "    \n",
    "    return cleaned_string\n",
    "\n",
    "# Example usage:\n",
    "html_string = \"<!DOCTYPE html><html><body>Hello world!</body></html>\"\n",
    "cleaned_string = clean_html_string(html_string)\n",
    "print(cleaned_string)\n",
    "# Output: <!DOCTYPE html><html><body>Hello world!</body></html>"
   ]
  },
  {
   "cell_type": "markdown",
   "metadata": {},
   "source": [
    "##### Clean the String"
   ]
  },
  {
   "cell_type": "code",
   "execution_count": 15,
   "metadata": {},
   "outputs": [],
   "source": [
    "import json\n",
    "unclean_webpages_path = \"./generated_dataset/webpages.json\"\n",
    "with open(unclean_webpages_path, 'r') as f:\n",
    "    unclean_webpages = json.load(f)"
   ]
  },
  {
   "cell_type": "code",
   "execution_count": 16,
   "metadata": {},
   "outputs": [
    {
     "name": "stderr",
     "output_type": "stream",
     "text": [
      "Cleaning code: 100%|██████████| 4000/4000 [00:00<00:00, 80973.07it/s]\n"
     ]
    }
   ],
   "source": [
    "from tqdm import tqdm\n",
    "cleaned_wepages = []\n",
    "for item in tqdm(unclean_webpages, desc=\"Cleaning code\"):\n",
    "    code  = clean_html_string(item['code'])\n",
    "    item['code'] = code\n",
    "    cleaned_wepages.append(item)"
   ]
  },
  {
   "cell_type": "code",
   "execution_count": 18,
   "metadata": {},
   "outputs": [],
   "source": [
    "cleaned_wepages_path = './generated_dataset/cleaned_webpages.json'\n",
    "\n",
    "with open(cleaned_wepages_path, 'w') as f:\n",
    "    json.dump(cleaned_wepages, f, indent=2)"
   ]
  },
  {
   "cell_type": "code",
   "execution_count": 19,
   "metadata": {},
   "outputs": [
    {
     "name": "stderr",
     "output_type": "stream",
     "text": [
      "Saving the dataset (1/1 shards): 100%|██████████| 4000/4000 [00:00<00:00, 138908.39 examples/s]\n"
     ]
    },
    {
     "data": {
      "text/plain": [
       "DatasetDict({\n",
       "    train: Dataset({\n",
       "        features: ['prompt', 'code'],\n",
       "        num_rows: 4000\n",
       "    })\n",
       "})"
      ]
     },
     "execution_count": 19,
     "metadata": {},
     "output_type": "execute_result"
    }
   ],
   "source": [
    "from utils import create_and_split_dataset\n",
    "\n",
    "create_and_split_dataset(cleaned_wepages, 0.0, output_dir='./final_dataset/final_webpages_only_4000', save_jsonl=False)"
   ]
  },
  {
   "cell_type": "code",
   "execution_count": 1,
   "metadata": {},
   "outputs": [
    {
     "name": "stderr",
     "output_type": "stream",
     "text": [
      "Loading checkpoint shards: 100%|██████████| 2/2 [00:02<00:00,  1.15s/it]\n"
     ]
    }
   ],
   "source": [
    "from transformers import AutoModelForCausalLM, AutoTokenizer\n",
    "from peft import PeftModel, PeftConfig\n",
    "\n",
    "# Load base model and tokenizer\n",
    "model_name = \"meta-llama/CodeLlama-7b-hf\"  # example base model\n",
    "base_model = AutoModelForCausalLM.from_pretrained(model_name)\n",
    "tokenizer = AutoTokenizer.from_pretrained(model_name)\n",
    "\n",
    "# Load the LoRA configuration and model\n",
    "lora_path = \"./models/finetuned_codellama_4bit_lora_run_1\"  # path to your LoRA weights\n",
    "config = PeftConfig.from_pretrained(lora_path)\n",
    "model = PeftModel.from_pretrained(base_model, lora_path)"
   ]
  },
  {
   "cell_type": "code",
   "execution_count": null,
   "metadata": {},
   "outputs": [
    {
     "name": "stderr",
     "output_type": "stream",
     "text": [
      "Setting `pad_token_id` to `eos_token_id`:2 for open-end generation.\n"
     ]
    },
    {
     "name": "stdout",
     "output_type": "stream",
     "text": [
      "Create a simple HTML webpage where users can input their email address and receive a confirmation message when clicking on a button.### Response:\n",
      "<!DOCTYPE html>\n",
      "<html lang=\"en\">\n",
      "<head>\n",
      "    <meta charset=\"UTF-8\">\n",
      "    <title>Email Confirmation Form</title>\n",
      "    <style>\n",
      "        body {\n",
      "            font-family: Arial, sans-serif;\n",
      "            line-height: 1.6;\n",
      "            margin: 0;\n",
      "            padding: 20px;\n",
      "            background-color: #f0f0f0;\n",
      "        }\n",
      "        .container {\n",
      "            max-width: 600px;\n",
      "            margin: 0 auto;\n",
      "            background-color: white;\n",
      "            padding: 30px;\n",
      "            border-radius: 10px;\n",
      "            box-shadow: 0 0 10px rgba(0,0,0,0.1);\n",
      "        }\n",
      "        .form-group {\n",
      "            margin-bottom: 15px;\n",
      "        }\n",
      "        label {\n",
      "            display: block;\n",
      "            margin-bottom: 5px;\n",
      "            font-weight: bold;\n",
      "        }\n",
      "        input[type=\"email\"] {\n",
      "            width: 100%;\n",
      "            padding: 8px;\n",
      "            border: 1px solid #ddd;\n",
      "            border-radius: 4px;\n",
      "        }\n",
      "        button {\n",
      "            background-color: #4CAF50;\n",
      "            color: white;\n",
      "            padding: 12px 24px;\n",
      "            border: none;\n",
      "            border-radius: 4px;\n",
      "            cursor: pointer;\n",
      "            font-size: 16px;\n",
      "            width: 100%;\n",
      "        }\n",
      "        button:hover {\n",
      "            background-color: #45a049;\n",
      "        }\n",
      "        .success-message {\n",
      "            display: none;\n",
      "            color: #4CAF50;\n",
      "            text-align: center;\n",
      "            margin-top: 15px;\n",
      "        }\n",
      "    </style>\n",
      "</head>\n",
      "<body>\n",
      "    <div class=\"container\">\n",
      "        <h1>Email Confirmation Form</h1>\n",
      "        <form id\n"
     ]
    }
   ],
   "source": [
    "# Set model to evaluation mode\n",
    "model.eval()\n",
    "\n",
    "# Define a prompt\n",
    "prompt = \"Create a simple HTML webpage\"\n",
    "\n",
    "# Tokenize input\n",
    "inputs = tokenizer(prompt, return_tensors=\"pt\")\n",
    "\n",
    "# Generate text\n",
    "outputs = model.generate(\n",
    "    input_ids=inputs[\"input_ids\"],\n",
    "    attention_mask=inputs[\"attention_mask\"],\n",
    "    max_length=2048,\n",
    "    temperature=0.7,\n",
    "    do_sample=True,\n",
    "    top_p=0.95,\n",
    "    pad_token_id=tokenizer.pad_token_id,\n",
    "    eos_token_id=tokenizer.eos_token_id\n",
    ")\n",
    "\n",
    "# Decode the generated text\n",
    "generated_text = tokenizer.decode(outputs[0], skip_special_tokens=True)\n",
    "print(generated_text)"
   ]
  },
  {
   "cell_type": "code",
   "execution_count": 3,
   "metadata": {},
   "outputs": [
    {
     "name": "stdout",
     "output_type": "stream",
     "text": [
      "Total parameters: 6778523648\n",
      "Size in MB: 25858.02 MB\n"
     ]
    }
   ],
   "source": [
    "# Count parameters\n",
    "total_params = sum(p.numel() for p in model.parameters())\n",
    "print(f\"Total parameters: {total_params}\")\n",
    "print(f\"Size in MB: {total_params * 4 / 1024 / 1024:.2f} MB\") "
   ]
  },
  {
   "cell_type": "code",
   "execution_count": 5,
   "metadata": {},
   "outputs": [],
   "source": [
    "from utils import clean_html_string\n",
    "\n",
    "cleaned_generated_text = clean_html_string(generated_text)"
   ]
  },
  {
   "cell_type": "code",
   "execution_count": 6,
   "metadata": {},
   "outputs": [
    {
     "name": "stdout",
     "output_type": "stream",
     "text": [
      "<!DOCTYPE html>\n",
      "<html lang=\"en\">\n",
      "<head>\n",
      "    <meta charset=\"UTF-8\">\n",
      "    <title>Email Confirmation Form</title>\n",
      "    <style>\n",
      "        body {\n",
      "            font-family: Arial, sans-serif;\n",
      "            line-height: 1.6;\n",
      "            margin: 0;\n",
      "            padding: 20px;\n",
      "            background-color: #f0f0f0;\n",
      "        }\n",
      "        .container {\n",
      "            max-width: 600px;\n",
      "            margin: 0 auto;\n",
      "            background-color: white;\n",
      "            padding: 30px;\n",
      "            border-radius: 10px;\n",
      "            box-shadow: 0 0 10px rgba(0,0,0,0.1);\n",
      "        }\n",
      "        .form-group {\n",
      "            margin-bottom: 15px;\n",
      "        }\n",
      "        label {\n",
      "            display: block;\n",
      "            margin-bottom: 5px;\n",
      "            font-weight: bold;\n",
      "        }\n",
      "        input[type=\"email\"] {\n",
      "            width: 100%;\n",
      "            padding: 8px;\n",
      "            border: 1px solid #ddd;\n",
      "            border-radius: 4px;\n",
      "        }\n",
      "        button {\n",
      "            background-color: #4CAF50;\n",
      "            color: white;\n",
      "            padding: 12px 24px;\n",
      "            border: none;\n",
      "            border-radius: 4px;\n",
      "            cursor: pointer;\n",
      "            font-size: 16px;\n",
      "            width: 100%;\n",
      "        }\n",
      "        button:hover {\n",
      "            background-color: #45a049;\n",
      "        }\n",
      "        .success-message {\n",
      "            display: none;\n",
      "            color: #4CAF50;\n",
      "            text-align: center;\n",
      "            margin-top: 15px;\n",
      "        }\n",
      "    </style>\n",
      "</head>\n",
      "<body>\n",
      "    <div class=\"container\">\n",
      "        <h1>Email Confirmation Form</h1>\n",
      "        <form id\n"
     ]
    }
   ],
   "source": [
    "print(cleaned_generated_text)"
   ]
  },
  {
   "cell_type": "code",
   "execution_count": 7,
   "metadata": {},
   "outputs": [],
   "source": [
    "def write_html_to_file(html_content: str, output_path: str) -> None:\n",
    "    \"\"\"\n",
    "    Writes HTML content to a file while preserving formatting.\n",
    "    \n",
    "    Args:\n",
    "        html_content (str): The HTML content to write\n",
    "        output_path (str): Path where the HTML file should be saved\n",
    "    \"\"\"\n",
    "    try:\n",
    "        with open(output_path, 'w', encoding='utf-8') as f:\n",
    "            f.write(html_content)\n",
    "        print(f\"Successfully wrote HTML to {output_path}\")\n",
    "    except Exception as e:\n",
    "        print(f\"Error writing HTML file: {str(e)}\")"
   ]
  },
  {
   "cell_type": "code",
   "execution_count": 8,
   "metadata": {},
   "outputs": [
    {
     "name": "stdout",
     "output_type": "stream",
     "text": [
      "Successfully wrote HTML to accessible_travel_blog.html\n"
     ]
    }
   ],
   "source": [
    "# Example usage\n",
    "html_content =  cleaned_generated_text \n",
    "output_path = \"accessible_travel_blog.html\"\n",
    "write_html_to_file(html_content, output_path)"
   ]
  },
  {
   "cell_type": "code",
   "execution_count": 15,
   "metadata": {
    "vscode": {
     "languageId": "shellscript"
    }
   },
   "outputs": [],
   "source": [
    "import pandas as pd\n",
    "\n",
    "dev_dataset = pd.read_csv('./developer_prompt_dataset.csv', encoding='latin-1')"
   ]
  },
  {
   "cell_type": "code",
   "execution_count": 5,
   "metadata": {
    "vscode": {
     "languageId": "shellscript"
    }
   },
   "outputs": [
    {
     "data": {
      "application/vnd.microsoft.datawrangler.viewer.v0+json": {
       "columns": [
        {
         "name": "index",
         "rawType": "int64",
         "type": "integer"
        },
        {
         "name": "Developer",
         "rawType": "object",
         "type": "string"
        },
        {
         "name": "Student Name",
         "rawType": "object",
         "type": "string"
        },
        {
         "name": "Years of Experience",
         "rawType": "object",
         "type": "string"
        },
        {
         "name": "Prompt",
         "rawType": "object",
         "type": "string"
        }
       ],
       "conversionMethod": "pd.DataFrame",
       "ref": "94454d85-329a-4ae7-b788-4341e2ab7a34",
       "rows": [
        [
         "0",
         "D1",
         "Ayo",
         "0-2",
         "Can you create a website that advertises soccer jerseys with features that include background images, a navigation bar, video options, text descriptions, buttons, various sections, headers, footers, input text fields. Provide the source code. It can be in any language."
        ],
        [
         "1",
         "D2",
         "Alla Sreerma Reddy",
         "0-2",
         "Make me a website that is a shopping website that include beautiful and \ncolorful background images, text descriptions, buttons, videos, images, \na navigation bar, text fields, search filters, sorting filters, headers,\nfooters, etc.. in the website.give me  all the codes for the website . \nThe programming language should have HTML, CSS, and JavaScript code in the webpage. "
        ],
        [
         "2",
         "D3",
         "Rohitha Aradhyula",
         "0-2",
         "Can you create a website for me to display vivo phones and models where users can see and buy vivo products. Includes all fields like navigation bar, header, logo, footer, images, etc. Give me whole code for css, javascript, html in single html file include images of products and offers etc and include all the required features for a website "
        ],
        [
         "3",
         "D4",
         "Harshitha Arugonda",
         "0-2",
         "i want you to help me with an assignment."
        ],
        [
         "4",
         "D5",
         "Yashvikumari Bhagat",
         "0-2",
         "use this language HTML, CSS, JavaScript,build a hotel management website with its complete code. Ask ChatGPT to design a website with features that include background images, a navigation bar, video options, text descriptions, buttons, various sections, headers, footers, input text fields, and various other elements, etc"
        ],
        [
         "5",
         "D6",
         "sri duga viswa venkata sai varma",
         "0-2",
         "adidas,prices,color,product,shirts/saivarma0802.github.io/sai_classact/"
        ],
        [
         "6",
         "D7",
         "Dharma Sai Bhuvan Samba Siva Deepak Cheemakurthi",
         "0-2",
         "create a fully functional website for clothing store with features that include background images, a navigation bar, video options, text descriptions, buttons, various sections, headers, footers, input text fields, and various other elements, etc. You can use any programing languages and give me the code"
        ],
        [
         "7",
         "D8",
         "Mahimanvitha Chinnamsetti",
         "0-2",
         "Design a webpage for career advancement, include top popular studies in the website, and with features that include background images, a navigation bar, video options, text descriptions, buttons, various sections, header, footer. Please give me a complete webpage using programming languages of your choice"
        ],
        [
         "8",
         "D9",
         "Sai Pavani Danda",
         "0-2",
         "Give me a website advertising Pixel products that include background images, text description, buttons, videos, images, a navigation bar, text fields, search filters, sorting filters, headers, footers, etc..into the website. Provide all the codes. the programming language can be any. Include Javascript and CSS"
        ],
        [
         "9",
         "D10",
         "Aparna Desi Reddy",
         "0-2",
         "provide me a website with html, css, javascript in one single file which shows content like background images, navigation bar, buttons, links, images, header, footer, color, text descriptions"
        ],
        [
         "10",
         "D11",
         "ekkala nikhil sai",
         "0-2",
         "give me a website advertising samsung products that include background images, a navigation bar, video options, text descriptions, buttons, various sections, headers, footers, input text fields, and various other elements, etc into the website and also provide all the codes programming language can be any"
        ],
        [
         "11",
         "D12",
         "Raghu Nandan Lal Garikipati",
         "0-2",
         "Create a website for my local coffee shop with features like background images, a navigation bar, video options of coffee making, text descriptions, few buttons, and also various sections related to the website, headers, footers, input text fields, a search bar, and any other related fields required for the website. The website should be beautiful."
        ],
        [
         "12",
         "D13",
         "Monica Sai Meghana Ghanta",
         "0-1 ",
         "create a simple thrift store website make sure to use HTML, CSS and javascript and I want you to include the images of products , background colours, navigation bar, include the price under each product , some links ,add some details to the home page,add the videos to it , include the footer , some pages like about, contact us and make the website responsive."
        ],
        [
         "13",
         "D14",
         "Guduru Naga Tejaswi",
         "0-2",
         "Provide me with a website that promotes flower made products and has text descriptions, buttons, images, videos, a navigation bar, text fields, headers, footers, search and sorting filters, and background images. have HTML, CSS, and JavaScript code in the webpage. \n"
        ],
        [
         "14",
         "D15",
         "Anjani Priya Jillela",
         "0-2",
         "provide me a  house furniture website with images, buttons, nav bar, links, text descriptions, header,footer,colors using html,css,javascript"
        ],
        [
         "15",
         "D16",
         "Joel John",
         "0-2",
         "Design a hackathon website which will have all HTML, CSS, JavaScript in a single file and features that include background images, a navigation bar, video options, text descriptions, buttons, various sections, headers, footers, input text fields, and various other elements to make it a fully functional website."
        ],
        [
         "16",
         "D17",
         "Laasya Priya Jyesta",
         "0-2",
         "Give me a website along with complete code of advertising shampoo products. Use HTML,CSS,JAVASCRIPT. Give code in single file. Features can include background images, a navigation bar, video options, product images, buttons, various categories, headers, footers, input text field, search bar, login and account creation , checkout page. add any other relevant features. First give me the list of features you will be using in website and then the code"
        ],
        [
         "17",
         "D18",
         "Kanaparthi Eshitha",
         "0-2",
         "Design a website with luxury clothing store with features that include background images, a navigation bar, video options, text descriptions, buttons, various sections, headers, footers, input text fields, and other elements using HTML,CSS,java script"
        ],
        [
         "18",
         "D19",
         "ABHINAV REDDY KARIPIREDDY",
         "0-2",
         "food, menu , items, dishes, ingrediants and all that are needed"
        ],
        [
         "19",
         "D20",
         "Nikhil Kommireddi",
         "0-2",
         "create a website for menu of a pasta shop with pricing, images, text description, navigation\nbar, background images, videos, buttons, header, footers and add anything that is\nnecessary. provide me all the codes.\nCreating a simple website for a pasta shop with the features you've mentioned involves\nwriting HTML for the structure, CSS for styling, and possibly JavaScript for some interactive\nelements. Below, I'll provide a basic example of how you can set up such a website. For this\nexample, I'll include a few menu items, images, and other elements you mentioned"
        ],
        [
         "20",
         "D21",
         "Baladitya Madaraboyna ",
         "0-2",
         "The primary goal of this assignment is to create a functional website using ChatGPT with a mix of HTML, CSS, JavaScript"
        ],
        [
         "21",
         "D22",
         "Devendra Harsha Mamilla",
         "0-2",
         "hey help me to create a functional website with a mix of HTML,CSS,JavaScript,php it requires background images, a navigation bar, video options, text descriptions, buttons, various sections, headers, footers, input text fields, and various other elements,"
        ],
        [
         "22",
         "D23",
         "Mamilla Dhyanesh Siva Sai Purna ",
         "0-1 ",
         "include CSS and PHP javascript and make this website look better using those languages and gimme only one HTML file for that"
        ],
        [
         "23",
         "D24",
         "Mankari Preethi Reddy",
         "0-2",
         "Create a website using HTML, CSS, and JavaScript all in a single code file. Include features such as a background image, navigation bar, video options, text descriptions, buttons, multiple sections, headers, footers, and input text fields. Change the background color to blue. Also include a weather forecast prompt section."
        ],
        [
         "24",
         "D25",
         "Roshini Masimukku ",
         "0-2",
         "Give me a website advertising spotify that include background images, text description, buttons, videos, images, navigation bar, text fields, search filters, sorting filters, headers, footers etc.. into a website. Provide all the codes. Programming language can be any."
        ],
        [
         "25",
         "D26",
         "Muralimohan Mekala",
         "0-2",
         "need the website named as Urban beats and title is kitchen and family bar which consist of images, background colours , navigation bar , scroll button, slide images , prices , no. of pages . Give me the source code which include the HTML, CSS, Javascript"
        ],
        [
         "26",
         "D27",
         "Muniganti Vamshi Krishna",
         "0-2",
         "Create a basic manga website with HTML, CSS, and JavaScript. Include a navigation bar, header with a background image, \nsections for popular manga with descriptions and buttons, a video option, a search bar, and a footer. Provide the complete code without detailed design specifications"
        ],
        [
         "27",
         "D28",
         "Pasala Bala Nikhil",
         "0-2",
         "create a functional website using ChatGPT with a mix of HTML, CSS, JavaScript, PHP, or any other language. design a nissan car website with features that include background images, a navigation bar, video options, text descriptions, buttons, various sections, headers, footers, input text fields, and various other elements, etc. provide all the codes"
        ],
        [
         "28",
         "D29",
         "SAI KRISHNA PEDAPUDI",
         "0-2",
         "Create a complete website using HTML, CSS, JavaScript, and PHP (all code in 1 file). The website should include a background image, a navigation bar, a video option, text descriptions, buttons, various sections, headers, footers, and input text fields. Please provide the complete code."
        ],
        [
         "29",
         "D30",
         "Sai Rathan Perala",
         "0-2",
         "Create the complete code for a Clothing Brand website using a single index.html file only. The website should include the following features: A background image A navigation bar A video option Text descriptions Buttons Multiple sections Headers and footers Input text fields Use HTML, CSS, and JavaScript (all within the same index.html file) Don't ask for design preferences. Just build the entire site inside one HTML file"
        ],
        [
         "30",
         "D31",
         "Manisha Poppadi",
         "0-2",
         "Can you give me a code for Nike website with a mix of HTML, CSS, JavaScript, PHP, or any other language, design the website with features that include background images, a navigation bar, video options, text descriptions, buttons, various sections, headers, footers, input text fields, and various other elements"
        ],
        [
         "31",
         "D32",
         "PAVAN KARTHIK",
         "0-2",
         "Build a modern, responsive landing page for \"UrbanStyle Clothing Co.\" with a hero section,\n fixed navbar, product showcase, video lookbook, contact form, and newsletter signup. \nInclude smooth scrolling, styled buttons, and responsive design using HTML, CSS, and JavaScript.\n"
        ],
        [
         "32",
         "D33",
         "Mahalakshmi Shambu Gowda",
         "0-2",
         "Can you write a code to design a basic website for Samsung Phones and accessories?\nThat website should have features that include background images, a navigation bar,\nvideo options, text description, buttons, various sections, headers, footers, input text\nfields, and various other elements, etc. Please give me a complete code in any\nprogramming language of your choice."
        ],
        [
         "33",
         "D34",
         "Sai Ganesh Shnaigarapu ",
         "0-2",
         "Give me a website advertising addidas products that include background images , text descriptions ,\nbuttons , videos, images , a navigation bar, text fields , search filters, sorting filters , headers , footers,\netc.. into the website , provide the codes .it can be any programming language\ninclude all the HTML,CSS and the javascript in one single file ."
        ],
        [
         "34",
         "D35",
         "Maria Nikita Manasa Sula",
         "0-2",
         "\"Build a fully functional website for selling jewelry products. The website should feature background images, detailed product descriptions, buttons, embedded videos, product images, a navigation bar, input fields, search and sorting filters, headers, and footers. Please include the complete source code using HTML, CSS, and JavaScript for the entire webpage.\"\n"
        ],
        [
         "35",
         "D36",
         "Nikhitha Thoutu",
         "0-2",
         "Create a complete HTML webpage that includes all the following elements: document type declaration, HTML element, head section, metadata, page title, body section, headings (h1h6), paragraph, hyperlink, image, video, audio, navigation bar, unordered list, ordered list, list items, table (with headers, body, rows, header cells, and data cells), form (with text, email, password inputs, textarea, dropdown with options, button, labels, fieldset, legend), section, article, aside, footer, div, span  all wrapped in a user-friendly and creative experience-oriented website."
        ],
        [
         "36",
         "D37",
         "Tanusri Tonta",
         "0-2",
         "Create a complete website using only one HTML file. The website should include background images, a navigation bar, video options, text descriptions, buttons, multiple sections, headers, footers, input text fields, and other common webpage elements. Include all the CSS and JavaScript directly inside the same HTML file using <style> and <script> tags. Do not separate the code into different files. I dont want to specify design details like font sizes, colors, or layoutjust include the required elements in one working file."
        ],
        [
         "37",
         "D38",
         "Anilreddy veeraiahgari",
         "0-2",
         "Create a single HTML file that includes embedded HTML, CSS, and JavaScript.\nBuild a page for 'AVN Products' with:\nA header, navbar (Home, Products, Videos, Contact)\nA Products section (with image, name, description for each item)\nA search bar and sort dropdown to filter/sort products\nA Videos section with an embedded YouTube video\nA footer with company info\nBackground image, clean styling (rounded corners, hover effects), and basic responsive design\nVanilla JavaScript for search and sort functionality.\nCode must be fully self-contained in one HTML file.\""
        ],
        [
         "38",
         "D39",
         "swaruparani vuchholla",
         "0-2",
         "create a complete website code with background images,a navigation bar,video options, text descriptions,buttons,various sections,headers,footers,input text fields,and various other elements"
        ],
        [
         "39",
         "D40",
         "Sriram Chowdary Vundavalli",
         "0-2",
         "create a website for menu of a coffee shop with pricing, images, text description, navigation bar, background images, videos, buttons, header, footers and add anything that is necessary. provide me all the codes."
        ],
        [
         "40",
         "D41",
         "Bharath Vupputuri",
         "0-2",
         "Create a complete HTML website that advertises Samsung products. The website should have a full-screen background image and include a header featuring the Samsung logo and a title. It should have a responsive navigation bar with links such as Home, Products, About, and Contact. Include a product section with at least three Samsung productsfor example, the Galaxy S23, Samsung 4K TV, and Galaxy Bookeach displayed in a card that contains a real product image (use direct image URLs from Samsungs official site or CDN), the product title, a short description, and a styled button like Buy Now. Add a section that embeds a Samsung product video from YouTube. Include a search bar and drop-down filters (they dont need to be functional, just styled). Finally, add a styled footer that includes copyright information. All styles should be written in a <style> tag within the same HTML fileno external CSS or JavaScript should be used. The final output should be a single, well-formatted"
        ],
        [
         "41",
         "D42",
         "Phani Divya Yerramsetti",
         "0-2",
         "design a e-commerce website that has backgroud images, nav bars, images, text descriptions, alternative texts, headers, footers, buttons, links using HTML,CSS and JS in one single file"
        ]
       ],
       "shape": {
        "columns": 4,
        "rows": 42
       }
      },
      "text/html": [
       "<div>\n",
       "<style scoped>\n",
       "    .dataframe tbody tr th:only-of-type {\n",
       "        vertical-align: middle;\n",
       "    }\n",
       "\n",
       "    .dataframe tbody tr th {\n",
       "        vertical-align: top;\n",
       "    }\n",
       "\n",
       "    .dataframe thead th {\n",
       "        text-align: right;\n",
       "    }\n",
       "</style>\n",
       "<table border=\"1\" class=\"dataframe\">\n",
       "  <thead>\n",
       "    <tr style=\"text-align: right;\">\n",
       "      <th></th>\n",
       "      <th>Developer</th>\n",
       "      <th>Student Name</th>\n",
       "      <th>Years of Experience</th>\n",
       "      <th>Prompt</th>\n",
       "    </tr>\n",
       "  </thead>\n",
       "  <tbody>\n",
       "    <tr>\n",
       "      <th>0</th>\n",
       "      <td>D1</td>\n",
       "      <td>Ayo</td>\n",
       "      <td>0-2</td>\n",
       "      <td>Can you create a website that advertises socce...</td>\n",
       "    </tr>\n",
       "    <tr>\n",
       "      <th>1</th>\n",
       "      <td>D2</td>\n",
       "      <td>Alla Sreerma Reddy</td>\n",
       "      <td>0-2</td>\n",
       "      <td>Make me a website that is a shopping website t...</td>\n",
       "    </tr>\n",
       "    <tr>\n",
       "      <th>2</th>\n",
       "      <td>D3</td>\n",
       "      <td>Rohitha Aradhyula</td>\n",
       "      <td>0-2</td>\n",
       "      <td>Can you create a website for me to display viv...</td>\n",
       "    </tr>\n",
       "    <tr>\n",
       "      <th>3</th>\n",
       "      <td>D4</td>\n",
       "      <td>Harshitha Arugonda</td>\n",
       "      <td>0-2</td>\n",
       "      <td>i want you to help me with an assignment.</td>\n",
       "    </tr>\n",
       "    <tr>\n",
       "      <th>4</th>\n",
       "      <td>D5</td>\n",
       "      <td>Yashvikumari Bhagat</td>\n",
       "      <td>0-2</td>\n",
       "      <td>use this language HTML, CSS, JavaScript,build ...</td>\n",
       "    </tr>\n",
       "    <tr>\n",
       "      <th>5</th>\n",
       "      <td>D6</td>\n",
       "      <td>sri duga viswa venkata sai varma</td>\n",
       "      <td>0-2</td>\n",
       "      <td>adidas,prices,color,product,shirts/saivarma080...</td>\n",
       "    </tr>\n",
       "    <tr>\n",
       "      <th>6</th>\n",
       "      <td>D7</td>\n",
       "      <td>Dharma Sai Bhuvan Samba Siva Deepak Cheemakurthi</td>\n",
       "      <td>0-2</td>\n",
       "      <td>create a fully functional website for clothing...</td>\n",
       "    </tr>\n",
       "    <tr>\n",
       "      <th>7</th>\n",
       "      <td>D8</td>\n",
       "      <td>Mahimanvitha Chinnamsetti</td>\n",
       "      <td>0-2</td>\n",
       "      <td>Design a webpage for career advancement, inclu...</td>\n",
       "    </tr>\n",
       "    <tr>\n",
       "      <th>8</th>\n",
       "      <td>D9</td>\n",
       "      <td>Sai Pavani Danda</td>\n",
       "      <td>0-2</td>\n",
       "      <td>Give me a website advertising Pixel products t...</td>\n",
       "    </tr>\n",
       "    <tr>\n",
       "      <th>9</th>\n",
       "      <td>D10</td>\n",
       "      <td>Aparna Desi Reddy</td>\n",
       "      <td>0-2</td>\n",
       "      <td>provide me a website with html, css, javascrip...</td>\n",
       "    </tr>\n",
       "    <tr>\n",
       "      <th>10</th>\n",
       "      <td>D11</td>\n",
       "      <td>ekkala nikhil sai</td>\n",
       "      <td>0-2</td>\n",
       "      <td>give me a website advertising samsung products...</td>\n",
       "    </tr>\n",
       "    <tr>\n",
       "      <th>11</th>\n",
       "      <td>D12</td>\n",
       "      <td>Raghu Nandan Lal Garikipati</td>\n",
       "      <td>0-2</td>\n",
       "      <td>Create a website for my local coffee shop with...</td>\n",
       "    </tr>\n",
       "    <tr>\n",
       "      <th>12</th>\n",
       "      <td>D13</td>\n",
       "      <td>Monica Sai Meghana Ghanta</td>\n",
       "      <td>0-1</td>\n",
       "      <td>create a simple thrift store website make sure...</td>\n",
       "    </tr>\n",
       "    <tr>\n",
       "      <th>13</th>\n",
       "      <td>D14</td>\n",
       "      <td>Guduru Naga Tejaswi</td>\n",
       "      <td>0-2</td>\n",
       "      <td>Provide me with a website that promotes flower...</td>\n",
       "    </tr>\n",
       "    <tr>\n",
       "      <th>14</th>\n",
       "      <td>D15</td>\n",
       "      <td>Anjani Priya Jillela</td>\n",
       "      <td>0-2</td>\n",
       "      <td>provide me a  house furniture website with ima...</td>\n",
       "    </tr>\n",
       "    <tr>\n",
       "      <th>15</th>\n",
       "      <td>D16</td>\n",
       "      <td>Joel John</td>\n",
       "      <td>0-2</td>\n",
       "      <td>Design a hackathon website which will have all...</td>\n",
       "    </tr>\n",
       "    <tr>\n",
       "      <th>16</th>\n",
       "      <td>D17</td>\n",
       "      <td>Laasya Priya Jyesta</td>\n",
       "      <td>0-2</td>\n",
       "      <td>Give me a website along with complete code of ...</td>\n",
       "    </tr>\n",
       "    <tr>\n",
       "      <th>17</th>\n",
       "      <td>D18</td>\n",
       "      <td>Kanaparthi Eshitha</td>\n",
       "      <td>0-2</td>\n",
       "      <td>Design a website with luxury clothing store wi...</td>\n",
       "    </tr>\n",
       "    <tr>\n",
       "      <th>18</th>\n",
       "      <td>D19</td>\n",
       "      <td>ABHINAV REDDY KARIPIREDDY</td>\n",
       "      <td>0-2</td>\n",
       "      <td>food, menu , items, dishes, ingrediants and al...</td>\n",
       "    </tr>\n",
       "    <tr>\n",
       "      <th>19</th>\n",
       "      <td>D20</td>\n",
       "      <td>Nikhil Kommireddi</td>\n",
       "      <td>0-2</td>\n",
       "      <td>create a website for menu of a pasta shop with...</td>\n",
       "    </tr>\n",
       "    <tr>\n",
       "      <th>20</th>\n",
       "      <td>D21</td>\n",
       "      <td>Baladitya Madaraboyna</td>\n",
       "      <td>0-2</td>\n",
       "      <td>The primary goal of this assignment is to crea...</td>\n",
       "    </tr>\n",
       "    <tr>\n",
       "      <th>21</th>\n",
       "      <td>D22</td>\n",
       "      <td>Devendra Harsha Mamilla</td>\n",
       "      <td>0-2</td>\n",
       "      <td>hey help me to create a functional website wit...</td>\n",
       "    </tr>\n",
       "    <tr>\n",
       "      <th>22</th>\n",
       "      <td>D23</td>\n",
       "      <td>Mamilla Dhyanesh Siva Sai Purna</td>\n",
       "      <td>0-1</td>\n",
       "      <td>include CSS and PHP javascript and make this w...</td>\n",
       "    </tr>\n",
       "    <tr>\n",
       "      <th>23</th>\n",
       "      <td>D24</td>\n",
       "      <td>Mankari Preethi Reddy</td>\n",
       "      <td>0-2</td>\n",
       "      <td>Create a website using HTML, CSS, and JavaScri...</td>\n",
       "    </tr>\n",
       "    <tr>\n",
       "      <th>24</th>\n",
       "      <td>D25</td>\n",
       "      <td>Roshini Masimukku</td>\n",
       "      <td>0-2</td>\n",
       "      <td>Give me a website advertising spotify that inc...</td>\n",
       "    </tr>\n",
       "    <tr>\n",
       "      <th>25</th>\n",
       "      <td>D26</td>\n",
       "      <td>Muralimohan Mekala</td>\n",
       "      <td>0-2</td>\n",
       "      <td>need the website named as Urban beats and titl...</td>\n",
       "    </tr>\n",
       "    <tr>\n",
       "      <th>26</th>\n",
       "      <td>D27</td>\n",
       "      <td>Muniganti Vamshi Krishna</td>\n",
       "      <td>0-2</td>\n",
       "      <td>Create a basic manga website with HTML, CSS, a...</td>\n",
       "    </tr>\n",
       "    <tr>\n",
       "      <th>27</th>\n",
       "      <td>D28</td>\n",
       "      <td>Pasala Bala Nikhil</td>\n",
       "      <td>0-2</td>\n",
       "      <td>create a functional website using ChatGPT with...</td>\n",
       "    </tr>\n",
       "    <tr>\n",
       "      <th>28</th>\n",
       "      <td>D29</td>\n",
       "      <td>SAI KRISHNA PEDAPUDI</td>\n",
       "      <td>0-2</td>\n",
       "      <td>Create a complete website using HTML, CSS, Jav...</td>\n",
       "    </tr>\n",
       "    <tr>\n",
       "      <th>29</th>\n",
       "      <td>D30</td>\n",
       "      <td>Sai Rathan Perala</td>\n",
       "      <td>0-2</td>\n",
       "      <td>Create the complete code for a Clothing Brand ...</td>\n",
       "    </tr>\n",
       "    <tr>\n",
       "      <th>30</th>\n",
       "      <td>D31</td>\n",
       "      <td>Manisha Poppadi</td>\n",
       "      <td>0-2</td>\n",
       "      <td>Can you give me a code for Nike website with a...</td>\n",
       "    </tr>\n",
       "    <tr>\n",
       "      <th>31</th>\n",
       "      <td>D32</td>\n",
       "      <td>PAVAN KARTHIK</td>\n",
       "      <td>0-2</td>\n",
       "      <td>Build a modern, responsive landing page for \"U...</td>\n",
       "    </tr>\n",
       "    <tr>\n",
       "      <th>32</th>\n",
       "      <td>D33</td>\n",
       "      <td>Mahalakshmi Shambu Gowda</td>\n",
       "      <td>0-2</td>\n",
       "      <td>Can you write a code to design a basic website...</td>\n",
       "    </tr>\n",
       "    <tr>\n",
       "      <th>33</th>\n",
       "      <td>D34</td>\n",
       "      <td>Sai Ganesh Shnaigarapu</td>\n",
       "      <td>0-2</td>\n",
       "      <td>Give me a website advertising addidas products...</td>\n",
       "    </tr>\n",
       "    <tr>\n",
       "      <th>34</th>\n",
       "      <td>D35</td>\n",
       "      <td>Maria Nikita Manasa Sula</td>\n",
       "      <td>0-2</td>\n",
       "      <td>\"Build a fully functional website for selling ...</td>\n",
       "    </tr>\n",
       "    <tr>\n",
       "      <th>35</th>\n",
       "      <td>D36</td>\n",
       "      <td>Nikhitha Thoutu</td>\n",
       "      <td>0-2</td>\n",
       "      <td>Create a complete HTML webpage that includes a...</td>\n",
       "    </tr>\n",
       "    <tr>\n",
       "      <th>36</th>\n",
       "      <td>D37</td>\n",
       "      <td>Tanusri Tonta</td>\n",
       "      <td>0-2</td>\n",
       "      <td>Create a complete website using only one HTML ...</td>\n",
       "    </tr>\n",
       "    <tr>\n",
       "      <th>37</th>\n",
       "      <td>D38</td>\n",
       "      <td>Anilreddy veeraiahgari</td>\n",
       "      <td>0-2</td>\n",
       "      <td>Create a single HTML file that includes embedd...</td>\n",
       "    </tr>\n",
       "    <tr>\n",
       "      <th>38</th>\n",
       "      <td>D39</td>\n",
       "      <td>swaruparani vuchholla</td>\n",
       "      <td>0-2</td>\n",
       "      <td>create a complete website code with background...</td>\n",
       "    </tr>\n",
       "    <tr>\n",
       "      <th>39</th>\n",
       "      <td>D40</td>\n",
       "      <td>Sriram Chowdary Vundavalli</td>\n",
       "      <td>0-2</td>\n",
       "      <td>create a website for menu of a coffee shop wit...</td>\n",
       "    </tr>\n",
       "    <tr>\n",
       "      <th>40</th>\n",
       "      <td>D41</td>\n",
       "      <td>Bharath Vupputuri</td>\n",
       "      <td>0-2</td>\n",
       "      <td>Create a complete HTML website that advertises...</td>\n",
       "    </tr>\n",
       "    <tr>\n",
       "      <th>41</th>\n",
       "      <td>D42</td>\n",
       "      <td>Phani Divya Yerramsetti</td>\n",
       "      <td>0-2</td>\n",
       "      <td>design a e-commerce website that has backgroud...</td>\n",
       "    </tr>\n",
       "  </tbody>\n",
       "</table>\n",
       "</div>"
      ],
      "text/plain": [
       "   Developer                                      Student Name  \\\n",
       "0         D1                                               Ayo   \n",
       "1         D2                                Alla Sreerma Reddy   \n",
       "2         D3                                 Rohitha Aradhyula   \n",
       "3         D4                                Harshitha Arugonda   \n",
       "4         D5                               Yashvikumari Bhagat   \n",
       "5         D6                  sri duga viswa venkata sai varma   \n",
       "6         D7  Dharma Sai Bhuvan Samba Siva Deepak Cheemakurthi   \n",
       "7         D8                         Mahimanvitha Chinnamsetti   \n",
       "8         D9                                  Sai Pavani Danda   \n",
       "9        D10                                 Aparna Desi Reddy   \n",
       "10       D11                                 ekkala nikhil sai   \n",
       "11       D12                       Raghu Nandan Lal Garikipati   \n",
       "12       D13                         Monica Sai Meghana Ghanta   \n",
       "13       D14                               Guduru Naga Tejaswi   \n",
       "14       D15                              Anjani Priya Jillela   \n",
       "15       D16                                         Joel John   \n",
       "16       D17                               Laasya Priya Jyesta   \n",
       "17       D18                                Kanaparthi Eshitha   \n",
       "18       D19                         ABHINAV REDDY KARIPIREDDY   \n",
       "19       D20                                 Nikhil Kommireddi   \n",
       "20       D21                            Baladitya Madaraboyna    \n",
       "21       D22                           Devendra Harsha Mamilla   \n",
       "22       D23                  Mamilla Dhyanesh Siva Sai Purna    \n",
       "23       D24                             Mankari Preethi Reddy   \n",
       "24       D25                                Roshini Masimukku    \n",
       "25       D26                                Muralimohan Mekala   \n",
       "26       D27                          Muniganti Vamshi Krishna   \n",
       "27       D28                                Pasala Bala Nikhil   \n",
       "28       D29                              SAI KRISHNA PEDAPUDI   \n",
       "29       D30                                 Sai Rathan Perala   \n",
       "30       D31                                   Manisha Poppadi   \n",
       "31       D32                                     PAVAN KARTHIK   \n",
       "32       D33                          Mahalakshmi Shambu Gowda   \n",
       "33       D34                           Sai Ganesh Shnaigarapu    \n",
       "34       D35                          Maria Nikita Manasa Sula   \n",
       "35       D36                                   Nikhitha Thoutu   \n",
       "36       D37                                     Tanusri Tonta   \n",
       "37       D38                            Anilreddy veeraiahgari   \n",
       "38       D39                             swaruparani vuchholla   \n",
       "39       D40                        Sriram Chowdary Vundavalli   \n",
       "40       D41                                 Bharath Vupputuri   \n",
       "41       D42                           Phani Divya Yerramsetti   \n",
       "\n",
       "   Years of Experience                                             Prompt  \n",
       "0                  0-2  Can you create a website that advertises socce...  \n",
       "1                  0-2  Make me a website that is a shopping website t...  \n",
       "2                  0-2  Can you create a website for me to display viv...  \n",
       "3                  0-2         i want you to help me with an assignment\n",
       ".  \n",
       "4                  0-2  use this language HTML, CSS, JavaScript,build ...  \n",
       "5                  0-2  adidas,prices,color,product,shirts/saivarma080...  \n",
       "6                  0-2  create a fully functional website for clothing...  \n",
       "7                  0-2  Design a webpage for career advancement, inclu...  \n",
       "8                  0-2  Give me a website advertising Pixel products t...  \n",
       "9                  0-2  provide me a website with html, css, javascrip...  \n",
       "10                 0-2  give me a website advertising samsung products...  \n",
       "11                 0-2  Create a website for my local coffee shop with...  \n",
       "12                0-1   create a simple thrift store website make sure...  \n",
       "13                 0-2  Provide me with a website that promotes flower...  \n",
       "14                 0-2  provide me a  house furniture website with ima...  \n",
       "15                 0-2  Design a hackathon website which will have all...  \n",
       "16                 0-2  Give me a website along with complete code of ...  \n",
       "17                 0-2  Design a website with luxury clothing store wi...  \n",
       "18                 0-2  food, menu , items, dishes, ingrediants and al...  \n",
       "19                 0-2  create a website for menu of a pasta shop with...  \n",
       "20                 0-2  The primary goal of this assignment is to crea...  \n",
       "21                 0-2  hey help me to create a functional website wit...  \n",
       "22                0-1   include CSS and PHP javascript and make this w...  \n",
       "23                 0-2  Create a website using HTML, CSS, and JavaScri...  \n",
       "24                 0-2  Give me a website advertising spotify that inc...  \n",
       "25                 0-2  need the website named as Urban beats and titl...  \n",
       "26                 0-2  Create a basic manga website with HTML, CSS, a...  \n",
       "27                 0-2  create a functional website using ChatGPT with...  \n",
       "28                 0-2  Create a complete website using HTML, CSS, Jav...  \n",
       "29                 0-2  Create the complete code for a Clothing Brand ...  \n",
       "30                 0-2  Can you give me a code for Nike website with a...  \n",
       "31                 0-2  Build a modern, responsive landing page for \"U...  \n",
       "32                 0-2  Can you write a code to design a basic website...  \n",
       "33                 0-2  Give me a website advertising addidas products...  \n",
       "34                 0-2  \"Build a fully functional website for selling ...  \n",
       "35                 0-2  Create a complete HTML webpage that includes a...  \n",
       "36                 0-2  Create a complete website using only one HTML ...  \n",
       "37                 0-2  Create a single HTML file that includes embedd...  \n",
       "38                 0-2  create a complete website code with background...  \n",
       "39                 0-2  create a website for menu of a coffee shop wit...  \n",
       "40                 0-2  Create a complete HTML website that advertises...  \n",
       "41                 0-2  design a e-commerce website that has backgroud...  "
      ]
     },
     "execution_count": 5,
     "metadata": {},
     "output_type": "execute_result"
    }
   ],
   "source": [
    "dev_dataset"
   ]
  },
  {
   "cell_type": "code",
   "execution_count": 16,
   "metadata": {},
   "outputs": [
    {
     "name": "stdout",
     "output_type": "stream",
     "text": [
      "Number of records: 42\n"
     ]
    }
   ],
   "source": [
    "dev_dataset_dict = dev_dataset.to_dict('records')\n",
    "print(f\"Number of records: {len(dev_dataset_dict)}\")"
   ]
  },
  {
   "cell_type": "code",
   "execution_count": null,
   "metadata": {},
   "outputs": [
    {
     "data": {
      "text/plain": [
       "{'Developer': 'D1',\n",
       " 'Student Name': 'Ayo',\n",
       " 'Years of Experience': '0-2',\n",
       " 'Prompt': 'Can you create a website that advertises soccer jerseys with features that include background images, a navigation bar, video options, text descriptions, buttons, various sections, headers, footers, input text fields. Provide the source code. It can be in any language.'}"
      ]
     },
     "execution_count": 11,
     "metadata": {},
     "output_type": "execute_result"
    }
   ],
   "source": [
    "dev_dataset_dict"
   ]
  },
  {
   "cell_type": "code",
   "execution_count": null,
   "metadata": {
    "vscode": {
     "languageId": "shellscript"
    }
   },
   "outputs": [],
   "source": [
    "prompt = dev_dataset_dict[0]['Prompt']\n",
    "\n",
    "cleaned_generated_text = clean_html_string(generated_text)\n",
    "\n",
    "# Example usage\n",
    "html_content =  cleaned_generated_text \n",
    "output_path = f\"{dev_dataset_dict[0]['Prompt']}.html\"\n",
    "write_html_to_file(html_content, output_path)\n",
    "\n"
   ]
  },
  {
   "cell_type": "code",
   "execution_count": 12,
   "metadata": {
    "vscode": {
     "languageId": "shellscript"
    }
   },
   "outputs": [],
   "source": [
    "import os"
   ]
  },
  {
   "cell_type": "code",
   "execution_count": null,
   "metadata": {
    "vscode": {
     "languageId": "shellscript"
    }
   },
   "outputs": [
    {
     "ename": "AttributeError",
     "evalue": "module 'os' has no attribute 'makedir'",
     "output_type": "error",
     "traceback": [
      "\u001b[0;31m---------------------------------------------------------------------------\u001b[0m",
      "\u001b[0;31mAttributeError\u001b[0m                            Traceback (most recent call last)",
      "Cell \u001b[0;32mIn[14], line 1\u001b[0m\n\u001b[0;32m----> 1\u001b[0m \u001b[43mos\u001b[49m\u001b[38;5;241;43m.\u001b[39;49m\u001b[43mmakedir\u001b[49m(\u001b[38;5;124m'\u001b[39m\u001b[38;5;124mhtml_file\u001b[39m\u001b[38;5;124m'\u001b[39m, exists_ok\u001b[38;5;241m=\u001b[39m\u001b[38;5;28;01mTrue\u001b[39;00m)\n",
      "\u001b[0;31mAttributeError\u001b[0m: module 'os' has no attribute 'makedir'"
     ]
    }
   ],
   "source": [
    "os.makedirs('html_file', exist_ok=True)"
   ]
  }
 ],
 "metadata": {
  "kernelspec": {
   "display_name": "torch",
   "language": "python",
   "name": "python3"
  },
  "language_info": {
   "codemirror_mode": {
    "name": "ipython",
    "version": 3
   },
   "file_extension": ".py",
   "mimetype": "text/x-python",
   "name": "python",
   "nbconvert_exporter": "python",
   "pygments_lexer": "ipython3",
   "version": "3.11.0"
  }
 },
 "nbformat": 4,
 "nbformat_minor": 2
}
