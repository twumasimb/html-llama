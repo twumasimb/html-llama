{
 "cells": [
  {
   "cell_type": "code",
   "execution_count": 2,
   "metadata": {},
   "outputs": [],
   "source": [
    "import argparse\n",
    "import random\n",
    "import logging\n",
    "from tqdm import tqdm\n",
    "from resources import webpage_purposes\n",
    "from utils import save_json, llm_generate\n",
    "from generate_prompts import generate_prompts"
   ]
  },
  {
   "cell_type": "code",
   "execution_count": 4,
   "metadata": {},
   "outputs": [
    {
     "name": "stderr",
     "output_type": "stream",
     "text": [
      "Generating prompts: 100%|██████████| 1/1 [00:00<00:00,  4.76it/s]\n",
      "INFO: Data saved to prompt.json\n"
     ]
    },
    {
     "data": {
      "text/plain": [
       "['Understood! Please provide the purpose \"online marketplace,\" and I will create a prompt for you.']"
      ]
     },
     "execution_count": 4,
     "metadata": {},
     "output_type": "execute_result"
    }
   ],
   "source": [
    "prompt = f\"\"\"\n",
    "            I want to create webpage idea prompts. Here's how:\n",
    "\n",
    "1. I'll give you a purpose from my list (like \"3D modeling gallery\")\n",
    "2. You'll create a short prompt asking for HTML code for that purpose\n",
    "3. Keep prompts under 100 words\n",
    "\n",
    "Example:\n",
    "Purpose: \"3D modeling gallery\"\n",
    "Output prompt: \"Write HTML code for a webpage that displays a 3D modeling gallery.\"\n",
    "\n",
    "Your job is to take any purpose I give you and turn it into a clear prompt asking for HTML code for that specific type of webpage.\n",
    "\n",
    "Does this make sense? If yes, I'll start giving you purposes from my list.\n",
    "\n",
    "Purpose: \"online marketplace\"\n",
    "        \"\"\"\n",
    "generate_prompts(num_prompts=1, output_file=\"prompt.json\")"
   ]
  },
  {
   "cell_type": "code",
   "execution_count": 2,
   "metadata": {},
   "outputs": [],
   "source": [
    "# utils.py\n",
    "import json\n",
    "import re\n",
    "import logging\n",
    "from transformers import pipeline\n",
    "from tqdm import tqdm\n",
    "import requests\n",
    "from typing import Optional\n",
    "\n",
    "def llm_generate(prompt: str) -> Optional[str]:\n",
    "    \"\"\"Generate response using local CodeLlama API\"\"\"\n",
    "    try:\n",
    "        response = requests.post(\n",
    "            \"http://localhost:11434/api/generate\",\n",
    "            json={\"model\": \"deepseek-r1:32b\", \"prompt\": prompt}\n",
    "        )\n",
    "        \n",
    "        # Concatenate all response chunks\n",
    "        full_response = \"\"\n",
    "        for line in response.iter_lines():\n",
    "            if line:\n",
    "                json_response = json.loads(line)\n",
    "                if 'response' in json_response:\n",
    "                    full_response += json_response['response']\n",
    "        \n",
    "        # Extract response after </think> tag if present\n",
    "        if '</think>' in full_response:\n",
    "            full_response = full_response.split('</think>')[-1].strip()\n",
    "            # Split by newlines and take everything after the first empty line\n",
    "            if '\\n\\n' in full_response:\n",
    "                full_response = full_response.split('\\n\\n', 1)[1].strip()\n",
    "            \n",
    "        return full_response\n",
    "    except Exception as e:\n",
    "        print(f\"Error generating with CodeLlama: {str(e)}\")\n",
    "        return None"
   ]
  },
  {
   "cell_type": "code",
   "execution_count": 5,
   "metadata": {},
   "outputs": [
    {
     "data": {
      "text/plain": [
       "'1. **Identify the first vowel**: The word starts with \\'p\\' (consonant), followed by \\'u\\' (vowel).\\n2. **Move the consonant(s) before the first vowel to the end and add \\'ay\\'**:\\n   - Move \\'p\\' to the end: \"ungosukosukanp\"\\n   - Add \\'ay\\': \"ungosukosukannpay\"\\n\\n3. **Split the result into morphemes by `@`**, likely separating each syllable or significant sound group.\\n\\nGiven the complexity of the word, a reasonable split might be:\\n\\n- The first part after moving \\'p\\' is \"ungo\", then splitting further:\\n  \\n  \"ungo@sukosukanpay\"\\n\\nHowever, to align with typical Pig Latin translation patterns and considering possible syllable breaks:\\n\\n**Final Answer:**\\n\\n ungosukosukannpay@ \\n\\n(Note: The exact split may vary based on specific rules or intended segmentation.)'"
      ]
     },
     "execution_count": 5,
     "metadata": {},
     "output_type": "execute_result"
    }
   ],
   "source": [
    "prompt_template = \"\"\"\n",
    "I want you to break the words into morphemes using the '@'. These are some examples: \n",
    "taropweian -> taropwei@an\n",
    "pachafengenin -> pach@a@fengen@in\n",
    "safeian -> safei@an\n",
    "ekinamwei   -> e@kinamwe@i\n",
    "akisatiw -> a@kis@a@tiw\n",
    "angasano -> a@ngas@a@no\n",
    "swemwenin -> semwen@in\n",
    "\n",
    "Now break this word into morphemes\n",
    "pungosukosukan -> \n",
    "\"\"\"\n",
    "\n",
    "llm_generate(prompt_template)"
   ]
  },
  {
   "cell_type": "code",
   "execution_count": 19,
   "metadata": {},
   "outputs": [],
   "source": [
    "prompt = \"\"\"\n",
    "            I want to create webpage idea prompts. Here's how:\n",
    "\n",
    "1. I'll give you a purpose from my list (like \"3D modeling gallery\")\n",
    "2. You'll create a short prompt asking for HTML code for that purpose\n",
    "3. Keep prompts under 100 words\n",
    "\n",
    "Example:\n",
    "Purpose: \"3D modeling gallery\"\n",
    "Output prompt: \"Write HTML code for a webpage that displays a 3D modeling gallery.\"\n",
    "\n",
    "Your job is to take any purpose I give you and turn it into a clear prompt asking for HTML code for that specific type of webpage.\n",
    "\n",
    "Does this make sense? If yes, I'll start giving you purposes from my list.\n",
    "\n",
    "Purpose: \"online marketplace\"\n",
    "        \"\"\""
   ]
  },
  {
   "cell_type": "code",
   "execution_count": 20,
   "metadata": {},
   "outputs": [
    {
     "name": "stdout",
     "output_type": "stream",
     "text": [
      "[\"I want to create webpage idea prompts. Here's how:\", '1. I\\'ll give you a purpose from my list (like \"3D modeling gallery\")', \"2. You'll create a short prompt asking for HTML code for that purpose\", '3. Keep prompts under 100 words', 'Example:', 'Purpose: \"3D modeling gallery\"', 'Output prompt: \"Write HTML code for a webpage that displays a 3D modeling gallery.\"', 'Your job is to take any purpose I give you and turn it into a clear prompt asking for HTML code for that specific type of webpage.', \"Does this make sense? If yes, I'll start giving you purposes from my list.\", 'Purpose: \"online marketplace\"']\n"
     ]
    }
   ],
   "source": [
    "sentences = prompt.splitlines()\n",
    "\n",
    "# Remove empty lines\n",
    "sentences = [line.strip() for line in sentences if line.strip()]\n",
    "\n",
    "print(sentences)"
   ]
  },
  {
   "cell_type": "code",
   "execution_count": 21,
   "metadata": {},
   "outputs": [
    {
     "name": "stdout",
     "output_type": "stream",
     "text": [
      "Input: I want to create webpage idea prompts. Here's how:\n",
      "Response: \n",
      "Great! Here are some ideas for creating webpage prompts:\n",
      "\n",
      "1. User-generated content: Allow users to submit their own ideas for webpages and feature the best ones on your site. This can be a great way to encourage user engagement and create a sense of community around your website.\n",
      "2. Niche topics: Identify niche topics that are not well-represented online and create a webpage dedicated to these topics. For example, you could create a webpage about the history of a particular region or the culture of a specific ethnic group.\n",
      "3. Personal stories: Encourage users to share their personal stories and experiences on your website. This can be a powerful way to connect with readers and create a sense of empathy and understanding.\n",
      "4. How-to guides: Create a webpage that provides step-by-step instructions for completing a particular task or achieving a specific goal. For example, you could create a webpage that teaches users how to start their own business or learn a new skill.\n",
      "5. Listicles: Create a webpage that consists of a list of interesting topics or trivia related to a particular theme. For example, you could create a webpage that lists the top 10 most popular tourist destinations in a particular country or the top 5 most bizarre foods from around the world.\n",
      "6. Interactive tools: Create a webpage that allows users to interact with your content in some way. For example, you could create a quiz or a game that tests users' knowledge of a particular subject.\n",
      "7. Infographics: Create a webpage that consists of visually appealing infographics related to a particular topic. Infographics are great for sharing information in a quick and easy-to-understand format.\n",
      "8. Personalized content: Use user data to create personalized content recommendations for each user. For example, you could use user search history or browsing behavior to suggest articles or webpages that are relevant to their interests.\n",
      "9. Collaborative projects: Create a webpage that allows users to collaborate on a particular project or task. For example, you could create a webpage where users can work together to build a community garden or create a shared art piece.\n",
      "10. Virtual events: Host virtual events on your website, such as webinars, workshops, or conferences. This can be a great way to connect with users and provide value to them without having to physically meet.\n",
      "\n",
      "I hope these ideas are helpful in getting started with creating webpage prompts! Let me know if you have any questions or need further clarification on any of the ideas listed above.\n",
      "\n",
      "Input: 1. I'll give you a purpose from my list (like \"3D modeling gallery\")\n",
      "Response: Great! Please provide the purpose from your list, and I will do my best to assist you in finding a relevant and high-quality 3D modeling gallery.\n",
      "\n",
      "Input: 2. You'll create a short prompt asking for HTML code for that purpose\n",
      "Response: \n",
      "Great, let's get started! Here is a short prompt asking for HTML code to create a button with the text \"Click me!\":\n",
      "\n",
      "Write an HTML code snippet that creates a button with the following attributes:\n",
      "\n",
      "* Text inside the button: \"Click me!\"\n",
      "* Background color of the button: #007bff (a light blue color)\n",
      "* Border width and style: 2 pixels, solid\n",
      "* Foreground color of the button: #ffffff (white)\n",
      "* Size of the button: 100x30 pixels\n",
      "\n",
      "Please provide the HTML code snippet as an answer.\n",
      "\n",
      "Input: 3. Keep prompts under 100 words\n",
      "Response: \n",
      "Of course! Here's a revised version of the previous response, with prompts kept under 100 words:\n",
      "\n",
      "1. Write a story about a character who discovers a hidden world within their own. Describe the world and its inhabitants.\n",
      "2. Imagine you are an alien visiting Earth for the first time. What do you see and experience? Write a journal entry about your observations.\n",
      "3. You stumble upon a magical artifact that gives you incredible powers. How do you use these powers to help others?\n",
      "\n",
      "Input: Example:\n",
      "Response: \n",
      "Sure, here are some examples of using the \"\n",
      "\n",
      "Input: Purpose: \"3D modeling gallery\"\n",
      "Response: \n",
      "Title: \"Immerse Yourself in the World of 3D Modeling - Explore Our Gallery Today!\"\n",
      "\n",
      "Subtitle: \"Discover the latest and greatest 3D models from around the globe. From fantastical creatures to realistic environments, our gallery has it all.\"\n",
      "\n",
      "Introduction:\n",
      "Welcome to our 3D modeling gallery, where you can explore a vast array of incredible 3D models created by talented artists and designers from around the world. Whether you're looking for inspiration for your next project or simply admiring the craftsmanship of others, we have something for everyone in this collection.\n",
      "\n",
      "Section 1: Fantastical Creatures\n",
      "In this section, you'll find a selection of 3D models that will transport you to fantastical realms. From mythical creatures like dragons and griffins to magical beings like fairies and sprites, these models are sure to spark your imagination. Explore the full range of shapes, sizes, and colors to find the perfect addition to your next project.\n",
      "\n",
      "Section 2: Realistic Environments\n",
      "For those who prefer a more grounded look and feel, we have a variety of realistic environments to explore. From lush forests and bustling cities to desert landscapes and snow-covered mountains, these 3D models are designed to transport you to another world. Each one is carefully crafted to provide the utmost in detail and realism, so you can immerse yourself in the scene as if you were there in person.\n",
      "\n",
      "Section 3: Abstract Art\n",
      "If you're looking for something a bit more unique and experimental, be sure to check out our selection of abstract art 3D models. From intricate patterns and shapes to organic forms that seem to defy gravity, these models will challenge your perceptions and inspire your creativity. Use them as a starting point for your next project or simply appreciate their beauty and ingenuity.\n",
      "\n",
      "Section 4: Accessories and Props\n",
      "Finally, we have a range of accessories and props that can help bring your 3D models to life. From weapons and tools to clothing and jewelry, these items will add the finishing touches to your creations and help you tell a more compelling story. Explore our selection today and discover new ways to enhance your 3D art.\n",
      "\n",
      "Conclusion:\n",
      "And there you have it – our vast and diverse 3D modeling gallery. Whether you're a seasoned professional or just starting out, we hope you find something here that inspires and motivates you to create something truly amazing. So go ahead and explore – the world of 3D art is waiting for you!\n",
      "\n",
      "Input: Output prompt: \"Write HTML code for a webpage that displays a 3D modeling gallery.\"\n",
      "Response: \n",
      "Certainly! Here is an example of HTML code for a webpage that displays a 3D modeling gallery:\n",
      "```\n",
      "<!DOCTYPE html>\n",
      "<html>\n",
      "<head>\n",
      "\t<title>3D Modeling Gallery</title>\n",
      "\t<script src=\"https://cdn.jsdelivr.net/npm/three@0.119.1/build/three.min.js\"></script>\n",
      "\t<style>\n",
      "\t\tbody {\n",
      "\t\t\tmargin: 0;\n",
      "\t\t\tbackground-color: #f0ede;\n",
      "\t\t}\n",
      "\t</style>\n",
      "</head>\n",
      "<body>\n",
      "\t<div id=\"3d-modeling-gallery\">\n",
      "\t\t<!-- Add 3D models here -->\n",
      "\t\t<div id=\"model-1\"></div>\n",
      "\t\t<div id=\"model-2\"></div>\n",
      "\t\t<div id=\"model-3\"></div>\n",
      "\t</div>\n",
      "\t\n",
      "\t<script>\n",
      "\t\t// Get the current camera position and orientation\n",
      "\t\tconst camera = document.querySelector('camera');\n",
      "\t\tconst pos = camera.position;\n",
      "\t\tconst quaternion = camera.quaternion;\n",
      "\t\t\n",
      "\t\t// Loop through all 3D models and render them\n",
      "\t\tconst models = document.querySelectorAll('#3d-modeling-gallery div');\n",
      "\t\tfor (let i = 0; i < models.length; i++) {\n",
      "\t\t\tconst model = models[i];\n",
      "\t\t\t\n",
      "\t\t\t// Get the 3D model and render it\n",
      "\t\t\tconst mesh = model.querySelector('mesh');\n",
      "\t\t\tthree.render(mesh, pos, quaternion);\n",
      "\t\t}\n",
      "\t</script>\n",
      "</body>\n",
      "</html>\n",
      "```\n",
      "This code creates a simple webpage with a container div for the 3D models, and a script tag that loads the Three.js library and renders each 3D model using the `three.render()` function. The `camera` element is used to set the position and orientation of the camera, and the `mesh` element is used to render the 3D model.\n",
      "\n",
      "You can add more 3D models by adding more `div` elements with the `mesh` element inside them. You can also modify the CSS styles to change the appearance of the webpage.\n",
      "\n",
      "Note that this code is just an example, and you will need to modify it to suit your specific needs. For example, you may want to add additional features such as lighting, animations, or interactivity.\n",
      "\n",
      "Input: Your job is to take any purpose I give you and turn it into a clear prompt asking for HTML code for that specific type of webpage.\n",
      "Response: \n",
      "Understood! Please provide the purpose or goal for which you would like me to create an HTML code prompt, and I will do my best to assist you.\n",
      "\n",
      "Input: Does this make sense? If yes, I'll start giving you purposes from my list.\n",
      "Response: \n",
      "Yes, please go ahead and give me the purposes from your list. I'm here to help!\n",
      "\n",
      "Input: Purpose: \"online marketplace\"\n",
      "Response: \n",
      "Great! Here are some potential names for an online marketplace focused on sustainable and eco-friendly products:\n",
      "\n",
      "1. EcoBazaar - A playful name that combines the words \"eco\" and \"bazaar,\" suggesting a vibrant and diverse marketplace of sustainable products.\n",
      "2. GreenMarket - A straightforward name that conveys the platform's focus on green and sustainable products.\n",
      "3. EarthlyStore - A name that emphasizes the platform's commitment to environmental sustainability and responsible consumption.\n",
      "4. SustainableSquare - A name that suggests a platform that offers a wide range of sustainable products in one convenient location.\n",
      "5. EcoCycle - A name that evokes the idea of cycling and circularity, suggesting a platform that promotes sustainable living and waste reduction.\n",
      "6. NaturalNexus - A name that suggests a connection or hub for natural and eco-friendly products, highlighting the platform's focus on sustainability.\n",
      "7. GoodGreenMarket - A name that combines the words \"good\" and \"green,\" conveying a sense of ethical and sustainable consumption.\n",
      "8. EcoPlaza - A name that suggests a public square or marketplace for eco-friendly products, emphasizing the platform's focus on community and collaboration.\n",
      "9. SustainableStyle - A name that combines the words \"style\" and \"sustainable,\" suggesting a platform that offers stylish and sustainable products.\n",
      "10. EarthFirst - A name that prioritizes the planet and environmental sustainability, emphasizing the importance of responsible consumption.\n",
      "\n",
      "I hope these suggestions help you find the perfect name for your online marketplace!\n",
      "\n"
     ]
    }
   ],
   "source": [
    "# Split prompt into lines\n",
    "prompt_lines = prompt.split('\\n')\n",
    "\n",
    "# Process each line through llm_generate\n",
    "for line in sentences:\n",
    "    if line.strip():  # Skip empty lines\n",
    "        response = llm_generate(line)\n",
    "        if response:\n",
    "            print(f\"Input: {line}\\nResponse: {response}\\n\")"
   ]
  },
  {
   "cell_type": "code",
   "execution_count": null,
   "metadata": {},
   "outputs": [
    {
     "name": "stdout",
     "output_type": "stream",
     "text": [
      "[\"I want to create webpage idea prompts. Here's how: 1. I'll give you a purpose from my list (like '3D modeling gallery') 2. You'll create a short prompt asking for HTML code for that purpose 3. Keep prompts under 100 words Example --> Purpose: '3D modeling gallery' Output prompt: 'Write HTML code for a webpage that displays a 3D modeling gallery.' Your job is to take any purpose I give you and turn it into a clear prompt asking for HTML code for that specific type of webpage. Does this make sense? If yes, I'll start giving you purposes from my list. Purpose: 'online marketplace' \"]\n"
     ]
    }
   ],
   "source": []
  },
  {
   "cell_type": "code",
   "execution_count": 30,
   "metadata": {},
   "outputs": [
    {
     "data": {
      "text/plain": [
       "'Write HTML code for an online marketplace website with a header, hero section, categories or filters, search functionality, product listings with images and prices, and a footer.'"
      ]
     },
     "execution_count": 30,
     "metadata": {},
     "output_type": "execute_result"
    }
   ],
   "source": [
    "llm_generate(prompt)"
   ]
  },
  {
   "cell_type": "code",
   "execution_count": 2,
   "metadata": {},
   "outputs": [],
   "source": [
    "prompt_template = \"\"\"\n",
    "Generate a unique and concise prompt related to web development. \n",
    "The prompt should be a specific task or question that a developer might ask when building a website, specifically frontend development, web design, and frameworks.\n",
    "\n",
    "Each prompt should be:\n",
    "- Clear and specific\n",
    "- Concise (no more than 2-3 sentences)\n",
    "- Relevant to web development\n",
    "- End with a question or task to solve\n",
    "\n",
    "Examples of prompts:\n",
    "- \"Create a website for a bookkeeping business\"\n",
    "- \"Write HTML and CSS code for a restaurant website\"\n",
    "- \"Generate code for a portfolio webpage using HTML, CSS and JavaScript\"\n",
    "- \"Let's create a website for an e-commerce business that shows the list of items available and the prices. The website should be interactive and nicely colored\"\n",
    "- \"Generate code for a kids toy website, where kids can share their toys\"\n",
    "\n",
    "Generate the prompt in the same format as the examples above. Be creative to include any possible use case. Focus on single webpage apps\n",
    "\"\"\""
   ]
  },
  {
   "cell_type": "code",
   "execution_count": 3,
   "metadata": {},
   "outputs": [
    {
     "name": "stdout",
     "output_type": "stream",
     "text": [
      "Okay, so I need to generate a unique and concise prompt related to web development, specifically for frontend development, web design, and frameworks. The prompt should be a specific task or question that a developer might ask when building a website. It needs to be clear, specific, concise (no more than 2-3 sentences), relevant to web development, and end with a question or task to solve.\n",
      "\n",
      "Looking at the examples provided, they all seem to focus on creating a website for a specific business or purpose, like a bookkeeping business, restaurant, portfolio, e-commerce, or kids' toy website. Each example includes the technologies to be used, like HTML, CSS, JavaScript, and sometimes specific features or functionalities.\n",
      "\n",
      "I should think of a unique use case that hasn't been covered yet. Maybe something related to a niche service or a specific feature. Let me brainstorm some ideas:\n",
      "\n",
      "1. A website for a local farmers' market where users can browse products and vendors.\n",
      "2. A personal blog platform where users can create and manage their own blog posts.\n",
      "3. An online learning platform for a specific skill, like coding or photography.\n",
      "4. A portfolio website for a freelance graphic designer.\n",
      "5. A website for a community event, like a music festival or marathon.\n",
      "\n",
      "Wait, the user mentioned \"single webpage apps,\" so maybe something that can be contained within a single page without too much complexity. Let me think of something that's both useful and specific.\n",
      "\n",
      "How about a website for a virtual art gallery? Users can view different artworks, maybe filter by artist or medium. It could include a feature to zoom into the artwork for a closer look. That sounds interesting and allows for some interactive elements.\n",
      "\n",
      "So, the prompt could be: \"Create a virtual art gallery website where users can browse and view different artworks. The website should allow users to filter artworks by artist and medium, and include a zoom feature for detailed viewing.\"\n",
      "\n",
      "Let me check if this meets all the criteria:\n",
      "\n",
      "- Clear and specific: Yes, it's about an art gallery with filtering and zoom features.\n",
      "- Concise: It's two sentences, which is within the limit.\n",
      "- Relevant to web development: Definitely, involves frontend design, possibly using frameworks for the zoom functionality.\n",
      "- Ends with a task: It describes the task clearly.\n",
      "\n",
      "I think this works. It's unique, covers frontend aspects, and includes interactive elements which can showcase different skills in web development.\n",
      "</think>\n",
      "\n",
      "\"Create a virtual art gallery website where users can browse and view different artworks. The website should allow users to filter artworks by artist and medium, and include a zoom feature for detailed viewing.\""
     ]
    }
   ],
   "source": [
    "from openai import OpenAI\n",
    "\n",
    "client = OpenAI(\n",
    "  base_url = \"https://integrate.api.nvidia.com/v1\",\n",
    "  api_key = \"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\"\n",
    ")\n",
    "\n",
    "completion = client.chat.completions.create(\n",
    "  model=\"deepseek-ai/deepseek-r1-distill-qwen-32b\",\n",
    "  messages=[{\"role\":\"user\",\"content\":f\"{prompt_template}\"}],\n",
    "  temperature=0.6,\n",
    "  top_p=0.7,\n",
    "  max_tokens=4096,\n",
    "  stream=True\n",
    ")\n",
    "\n",
    "for chunk in completion:\n",
    "  if chunk.choices[0].delta.content is not None:\n",
    "    print(chunk.choices[0].delta.content, end=\"\")"
   ]
  },
  {
   "cell_type": "markdown",
   "metadata": {},
   "source": [
    "NVIDIA API Code: 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"
   ]
  },
  {
   "cell_type": "code",
   "execution_count": 2,
   "metadata": {},
   "outputs": [],
   "source": [
    "import json\n",
    "\n",
    "with open('webpages.json') as f:\n",
    "    data = json.load(f)"
   ]
  },
  {
   "cell_type": "code",
   "execution_count": 4,
   "metadata": {},
   "outputs": [
    {
     "data": {
      "text/plain": [
       "470"
      ]
     },
     "execution_count": 4,
     "metadata": {},
     "output_type": "execute_result"
    }
   ],
   "source": [
    "len(data)"
   ]
  },
  {
   "cell_type": "code",
   "execution_count": 1,
   "metadata": {},
   "outputs": [
    {
     "name": "stdout",
     "output_type": "stream",
     "text": [
      "Build an interactive mood tracker webpage where users can select their current mood from a set of emotions (e.g., happy, sad, neutral). Each selection should update the background color based on predefined colors for each emotion. Include hover effects on buttons to show a preview of the selected color and ensure smooth transitions between moods.\n"
     ]
    }
   ],
   "source": [
    "def clean_text(text):\n",
    "    # Remove quotes and backslashes\n",
    "    cleaned = text.strip('\\\"\\\\')\n",
    "    return cleaned\n",
    "\n",
    "# Original text\n",
    "text = \"\\\"Build an interactive mood tracker webpage where users can select their current mood from a set of emotions (e.g., happy, sad, neutral). Each selection should update the background color based on predefined colors for each emotion. Include hover effects on buttons to show a preview of the selected color and ensure smooth transitions between moods.\\\"\"\n",
    "\n",
    "# Clean the text\n",
    "cleaned_text = clean_text(text)\n",
    "print(cleaned_text)"
   ]
  },
  {
   "cell_type": "code",
   "execution_count": 1,
   "metadata": {},
   "outputs": [],
   "source": [
    "candidate = \"\"\"\n",
    "<think>\n",
    "Okay, I need to create a webpage for a calculator using HTML, CSS, and JavaScript. The goal is to have a modern, user-friendly design with real-time results. Let me break this down step by step.\n",
    "\n",
    "First, I'll start with the HTML structure. The calculator should have a display area where the current input and results will be shown. Then, there should be buttons for numbers and operations. \n",
    "I'll organize these buttons in a grid layout to make it neat and easy to use.\n",
    "\n",
    "Next, I'll think about the CSS styling. To make it look modern, I'll choose a clean font like Arial, set a background color that's light but not too harsh, and ensure the calculator is centered on \n",
    "the page. The display area should be wide enough with a readable font size. For the buttons, I'll use a grid layout to arrange them neatly, add some padding, and style the operators differently so \n",
    "they stand out.\n",
    "\n",
    "Now, onto JavaScript. The main functions will involve handling button clicks, updating the display, performing calculations, and clearing the input. I'll need event listeners for each button. When \n",
    "a number or operator is clicked, it should update the display. For operations like addition or multiplication, I'll store the first operand and perform the calculation when the equals button is \n",
    "pressed.\n",
    "\n",
    "I also want to include keyboard support so users can input using their keyboard, which improves usability. I'll add an event listener for keydown events and map keys to corresponding actions, like \n",
    "pressing 'Enter' to calculate the result.\n",
    "\n",
    "Testing each part as I go is important. For example, after setting up the HTML and CSS, I'll check if the layout looks good on different screen sizes. Then, ensuring that each button click updates \n",
    "the display correctly and performs the right operation. I'll also test edge cases, like dividing by zero or handling multiple operations in a row.\n",
    "\n",
    "Finally, I'll review the code to make sure it's clean and well-commented. This makes it easier for others to understand and maintain. I'll also consider future enhancements, like adding more \n",
    "operations or improving the error handling, but those can be added later.\n",
    "</think>\n",
    "\n",
    "Here's a modern calculator webpage with HTML, CSS, and JavaScript:\n",
    "\n",
    "```html\n",
    "<!DOCTYPE html>\n",
    "<html lang=\"en\">\n",
    "<head>\n",
    "    <meta charset=\"UTF-8\">\n",
    "    <meta name=\"viewport\" content=\"width=device-width, initial-scale=1.0\">\n",
    "    <title>Modern Calculator</title>\n",
    "    <style>\n",
    "        * {\n",
    "            margin: 0;\n",
    "            padding: 0;\n",
    "            box-sizing: border-box;\n",
    "            font-family: Arial, sans-serif;\n",
    "        }\n",
    "\n",
    "        body {\n",
    "            display: flex;\n",
    "            justify-content: center;\n",
    "            align-items: center;\n",
    "            min-height: 100vh;\n",
    "            background-color: #f5f5f5;\n",
    "        }\n",
    "\n",
    "        .calculator {\n",
    "            background-color: white;\n",
    "            padding: 20px;\n",
    "            border-radius: 10px;\n",
    "            box-shadow: 0 0 20px rgba(0, 0, 0, 0.1);\n",
    "            width: 320px;\n",
    "        }\n",
    "\n",
    "        .display {\n",
    "            background-color: #f8f9fa;\n",
    "            padding: 20px;\n",
    "            border-radius: 5px;\n",
    "            margin-bottom: 10px;\n",
    "            text-align: right;\n",
    "            font-size: 2em;\n",
    "            height: 70px;\n",
    "            overflow: hidden;\n",
    "        }\n",
    "\n",
    "        .buttons {\n",
    "            display: grid;\n",
    "            grid-template-columns: repeat(4, 1fr);\n",
    "            gap: 10px;\n",
    "        }\n",
    "\n",
    "        button {\n",
    "            padding: 15px;\n",
    "            font-size: 1.2em;\n",
    "            border: none;\n",
    "            border-radius: 5px;\n",
    "            background-color: #f8f9fa;\n",
    "            cursor: pointer;\n",
    "            transition: all 0.3s ease;\n",
    "        }\n",
    "\n",
    "        button:hover {\n",
    "            background-color: #e9ecef;\n",
    "        }\n",
    "\n",
    "        .operator {\n",
    "            background-color: #4dabf7;\n",
    "            color: white;\n",
    "        }\n",
    "\n",
    "        .operator:hover {\n",
    "            background-color: #339af0;\n",
    "        }\n",
    "\n",
    "        .equals {\n",
    "            background-color: #4dc3ff;\n",
    "            color: white;\n",
    "            grid-column: span 2;\n",
    "        }\n",
    "\n",
    "        .equals:hover {\n",
    "            background-color: #33a8e7;\n",
    "        }\n",
    "\n",
    "        .clear {\n",
    "            background-color: #ff6b6b;\n",
    "            color: white;\n",
    "        }\n",
    "\n",
    "        .clear:hover {\n",
    "            background-color: #fa5252;\n",
    "        }\n",
    "    </style>\n",
    "</head>\n",
    "<body>\n",
    "    <div class=\"calculator\">\n",
    "        <div class=\"display\">0</div>\n",
    "        <div class=\"buttons\">\n",
    "            <button class=\"clear\">C</button>\n",
    "            <button class=\"operator\">÷</button>\n",
    "            <button class=\"operator\">×</button>\n",
    "            <button class=\"operator\">%</button>\n",
    "            \n",
    "            <button>7</button>\n",
    "            <button>8</button>\n",
    "            <button>9</button>\n",
    "            <button class=\"operator\">-</button>\n",
    "            \n",
    "            <button>4</button>\n",
    "            <button>5</button>\n",
    "            <button>6</button>\n",
    "            <button class=\"operator\">+</button>\n",
    "            \n",
    "            <button>1</button>\n",
    "            <button>2</button>\n",
    "            <button>3</button>\n",
    "            <button class=\"equals\">=</button>\n",
    "            \n",
    "            <button>0</button>\n",
    "            <button>.</button>\n",
    "        </div>\n",
    "    </div>\n",
    "\n",
    "    <script>\n",
    "        const display = document.querySelector('.display');\n",
    "        let currentCalculation = '0';\n",
    "        let firstOperand = null;\n",
    "        let operator = null;\n",
    "\n",
    "        function updateDisplay() {\n",
    "            display.textContent = currentCalculation;\n",
    "        }\n",
    "\n",
    "        function handleNumberClick(number) {\n",
    "            if (currentCalculation === '0') {\n",
    "                currentCalculation = number;\n",
    "            } else {\n",
    "                currentCalculation += number;\n",
    "            }\n",
    "            updateDisplay();\n",
    "        }\n",
    "\n",
    "        function handleOperatorClick(op) {\n",
    "            operator = op;\n",
    "            firstOperand = parseFloat(currentCalculation);\n",
    "            currentCalculation = '';\n",
    "        }\n",
    "\n",
    "        function calculate() {\n",
    "            if (!firstOperand || !operator) return;\n",
    "            \n",
    "            const secondOperand = parseFloat(currentCalculation);\n",
    "            let result;\n",
    "\n",
    "            switch (operator) {\n",
    "                case '+':\n",
    "                    result = firstOperand + secondOperand;\n",
    "                    break;\n",
    "                case '-':\n",
    "                    result = firstOperand - secondOperand;\n",
    "                    break;\n",
    "                case '×':\n",
    "                    result = firstOperand * secondOperand;\n",
    "                    break;\n",
    "                case '÷':\n",
    "                    if (secondOperand === 0) {\n",
    "                        currentCalculation = 'Error';\n",
    "                        return;\n",
    "                    }\n",
    "                    result = firstOperand / secondOperand;\n",
    "                    break;\n",
    "                case '%':\n",
    "                    result = firstOperand % secondOperand;\n",
    "                    break;\n",
    "                default:\n",
    "                    return;\n",
    "            }\n",
    "\n",
    "            currentCalculation = result.toString();\n",
    "            operator = null;\n",
    "        }\n",
    "\n",
    "        function handleClear() {\n",
    "            currentCalculation = '0';\n",
    "            operator = null;\n",
    "            updateDisplay();\n",
    "        }\n",
    "\n",
    "        // Event Listeners\n",
    "        document.querySelectorAll('button').forEach(button => {\n",
    "            button.addEventListener('click', () => {\n",
    "                const value = button.textContent;\n",
    "\n",
    "                if (value === 'C') {\n",
    "                    handleClear();\n",
    "                } else if ('+-×÷%'.includes(value)) {\n",
    "                    handleOperatorClick(value);\n",
    "                } else if (value === '=') {\n",
    "                    calculate();\n",
    "                } else {\n",
    "                    handleNumberClick(value);\n",
    "                }\n",
    "            });\n",
    "        });\n",
    "\n",
    "        // Keyboard Support\n",
    "        document.addEventListener('keydown', (event) => {\n",
    "            const key = event.key;\n",
    "            \n",
    "            if (key >= '0' && key <= '9' || key === '.') {\n",
    "                handleNumberClick(key);\n",
    "            } else if ('+-×÷%'.includes(key)) {\n",
    "                handleOperatorClick(key);\n",
    "            } else if (key === 'Enter') {\n",
    "                calculate();\n",
    "            } else if (key === 'Escape') {\n",
    "                handleClear();\n",
    "            }\n",
    "        });\n",
    "    </script>\n",
    "</body>\n",
    "</html>\n",
    "```\n",
    "\"\"\""
   ]
  },
  {
   "cell_type": "code",
   "execution_count": 3,
   "metadata": {},
   "outputs": [],
   "source": [
    "import re\n",
    "\n",
    "if candidate is not None:\n",
    "# Find the code created\n",
    "    code_pattern = r\"```(?:html|)\\n?(.*?)```\"\n",
    "    code_match = re.search(code_pattern, candidate, re.DOTALL)\n",
    "if code_match:\n",
    "    code = code_match.group(1).strip()\n",
    "else:\n",
    "    # If no backticks found, just strip any backticks that might be at start/end\n",
    "    code = re.sub(r'^```|```$', '', candidate).strip()\n",
    "\n",
    "# Find reasoning    \n",
    "reasoning_pattern = r\"<think>(.*?)</think>\"\n",
    "reasoning_match = re.search(reasoning_pattern, candidate, re.DOTALL)\n",
    "if reasoning_match:\n",
    "    reasoning = reasoning_match.group(1).strip()"
   ]
  },
  {
   "cell_type": "code",
   "execution_count": 6,
   "metadata": {},
   "outputs": [
    {
     "data": {
      "text/plain": [
       "\"Okay, I need to create a webpage for a calculator using HTML, CSS, and JavaScript. The goal is to have a modern, user-friendly design with real-time results. Let me break this down step by step.\\n\\nFirst, I'll start with the HTML structure. The calculator should have a display area where the current input and results will be shown. Then, there should be buttons for numbers and operations. \\nI'll organize these buttons in a grid layout to make it neat and easy to use.\\n\\nNext, I'll think about the CSS styling. To make it look modern, I'll choose a clean font like Arial, set a background color that's light but not too harsh, and ensure the calculator is centered on \\nthe page. The display area should be wide enough with a readable font size. For the buttons, I'll use a grid layout to arrange them neatly, add some padding, and style the operators differently so \\nthey stand out.\\n\\nNow, onto JavaScript. The main functions will involve handling button clicks, updating the display, performing calculations, and clearing the input. I'll need event listeners for each button. When \\na number or operator is clicked, it should update the display. For operations like addition or multiplication, I'll store the first operand and perform the calculation when the equals button is \\npressed.\\n\\nI also want to include keyboard support so users can input using their keyboard, which improves usability. I'll add an event listener for keydown events and map keys to corresponding actions, like \\npressing 'Enter' to calculate the result.\\n\\nTesting each part as I go is important. For example, after setting up the HTML and CSS, I'll check if the layout looks good on different screen sizes. Then, ensuring that each button click updates \\nthe display correctly and performs the right operation. I'll also test edge cases, like dividing by zero or handling multiple operations in a row.\\n\\nFinally, I'll review the code to make sure it's clean and well-commented. This makes it easier for others to understand and maintain. I'll also consider future enhancements, like adding more \\noperations or improving the error handling, but those can be added later.\""
      ]
     },
     "execution_count": 6,
     "metadata": {},
     "output_type": "execute_result"
    }
   ],
   "source": [
    "reasoning"
   ]
  },
  {
   "cell_type": "code",
   "execution_count": 7,
   "metadata": {},
   "outputs": [],
   "source": [
    "import json\n",
    "\n",
    "with open('final_dataset/final_dataset.json', 'r') as f:\n",
    "    data = json.load(f)"
   ]
  },
  {
   "cell_type": "code",
   "execution_count": 8,
   "metadata": {},
   "outputs": [
    {
     "data": {
      "text/plain": [
       "24562"
      ]
     },
     "execution_count": 8,
     "metadata": {},
     "output_type": "execute_result"
    }
   ],
   "source": [
    "len(data)"
   ]
  },
  {
   "cell_type": "code",
   "execution_count": 1,
   "metadata": {},
   "outputs": [],
<<<<<<< HEAD
   "source": []
=======
   "source": [
    "import json\n",
    "\n",
    "with open('./final_dataset/final_dataset.json', 'r') as f:\n",
    "    data = json.load(f)"
   ]
  },
  {
   "cell_type": "code",
   "execution_count": 2,
   "metadata": {},
   "outputs": [
    {
     "data": {
      "text/plain": [
       "24562"
      ]
     },
     "execution_count": 2,
     "metadata": {},
     "output_type": "execute_result"
    }
   ],
   "source": [
    "len(data)"
   ]
  },
  {
   "cell_type": "code",
   "execution_count": 3,
   "metadata": {},
   "outputs": [
    {
     "data": {
      "text/plain": [
       "{'prompt': 'Create a webpage with a calculator that performs basic arithmetic operations using HTML, CSS, and JavaScript. Ensure it has a modern, user-friendly interface with clear buttons and real-time results display.',\n",
       " 'reasoning': 'Alright, I need to create a calculator webpage using HTML, CSS, and JavaScript that\\'s accessible according to the given guidelines. Let me break down the steps I should take.\\n\\nFirst, I\\'ll start with the HTML structure. The page needs a proper document structure, so I\\'ll include a doctype, html element with lang set to \"en\", head with title, and body. The calculator will be placed inside a container div to center it on the page.\\n\\nNext, the calculator itself. It should have a display area for the current input and possibly previous operations. Using semantic elements is important, so I\\'ll use divs with classes like display for the screen. Each button should be a button element for better accessibility and keyboard focus.\\n\\nFor styling, CSS is necessary to make it look modern. I\\'ll use Flexbox to center the calculator on the page. The buttons need to be arranged in a grid, so I\\'ll apply Grid layout. Styling each button with different colors based on their function (numbers, operators) will improve usability. I\\'ll ensure that focus states are present for each button using outline and box-shadow properties.\\n\\nAccessibility is key here. All form elements must have labels, but buttons don\\'t require them as they\\'re self-descriptive. However, the display areas should be labeled appropriately for screen readers. I\\'ll use aria-labels for inputs to describe their purpose.\\n\\nKeyboard accessibility is another point. Users should be able to interact using only the keyboard. So, I\\'ll add event listeners for keydown events on the calculator container. Each key press (like numbers and operators) will trigger the corresponding button click functions.\\n\\nThe JavaScript part handles calculations. I\\'ll create a Calculator class to manage the state—current and previous operands, operations, and methods to perform calculations. Functions like appendNumber, chooseOperation, compute, and updateDisplay will be essential. Error handling is important too; if division by zero occurs, it should display an error message.\\n\\nTesting with screen readers isn\\'t possible right now, but I\\'ll ensure that the structure is semantic and labels are correctly applied. Color contrast is another consideration; I\\'ll use a light background for buttons to meet WCAG standards.\\n\\nFinally, I\\'ll validate the HTML and CSS to ensure no errors, which helps in making the page robust. The code should be clean, well-commented, and follow best practices for maintainability.',\n",
       " 'code': '<!DOCTYPE html>\\n<html lang=\"en\">\\n<head>\\n    <meta charset=\"UTF-8\">\\n    <title>Accessible Calculator</title>\\n    <style>\\n        * {\\n            margin: 0;\\n            padding: 0;\\n            box-sizing: border-box;\\n        }\\n\\n        body {\\n            display: flex;\\n            justify-content: center;\\n            align-items: center;\\n            min-height: 100vh;\\n            background-color: #f0f0f0;\\n            font-family: Arial, sans-serif;\\n        }\\n\\n        .calculator {\\n            background-color: white;\\n            padding: 2rem;\\n            border-radius: 10px;\\n            box-shadow: 0 0 15px rgba(0,0,0,0.1);\\n            width: 380px;\\n        }\\n\\n        .display {\\n            width: 100%;\\n            height: 60px;\\n            margin-bottom: 1rem;\\n            background-color: #f8f9fa;\\n            border-radius: 5px;\\n            padding: 1rem;\\n            font-size: 24px;\\n            text-align: right;\\n        }\\n\\n        .buttons {\\n            display: grid;\\n            grid-template-columns: repeat(4, 1fr);\\n            gap: 0.5rem;\\n        }\\n\\n        button {\\n            padding: 1rem;\\n            font-size: 1.2rem;\\n            border: none;\\n            border-radius: 5px;\\n            background-color: #f8f9fa;\\n            color: #333;\\n            cursor: pointer;\\n            transition: background-color 0.2s;\\n        }\\n\\n        button:hover {\\n            background-color: #e9ecef;\\n        }\\n\\n        button:focus {\\n            outline: none;\\n            box-shadow: 0 0 5px rgba(0,0,0,0.3);\\n        }\\n\\n        .operator {\\n            background-color: #6c757d;\\n            color: white;\\n        }\\n\\n        .equals {\\n            background-color: #28a745;\\n            color: white;\\n        }\\n\\n        .clear {\\n            background-color: #dc3545;\\n            color: white;\\n        }\\n    </style>\\n</head>\\n<body>\\n    <div class=\"calculator\">\\n        <div role=\"alert\" aria-live=\"polite\" class=\"display\" id=\"previous-display\">Press a number to start</div>\\n        <input type=\"text\" class=\"display\" id=\"current-input\" readonly>\\n        \\n        <div class=\"buttons\">\\n            <button onclick=\"clearInput()\">C</button>\\n            <button onclick=\"appendNumber(\\'(\\')\">(</button>\\n            <button onclick=\"appendNumber(\\')\\')\">)</button>\\n            <button class=\"operator\" onclick=\"chooseOperation(\\'/\\')\">/</button>\\n            \\n            <button onclick=\"appendNumber(7)\">7</button>\\n            <button onclick=\"appendNumber(8)\">8</button>\\n            <button onclick=\"appendNumber(9)\">9</button>\\n            <button class=\"operator\" onclick=\"chooseOperation(\\'*\\')\">×</button>\\n            \\n            <button onclick=\"appendNumber(4)\">4</button>\\n            <button onclick=\"appendNumber(5)\">5</button>\\n            <button onclick=\"appendNumber(6)\">6</button>\\n            <button class=\"operator\" onclick=\"chooseOperation(\\'-\\')\">-</button>\\n            \\n            <button onclick=\"appendNumber(1)\">1</button>\\n            <button onclick=\"appendNumber(2)\">2</button>\\n            <button onclick=\"appendNumber(3)\">3</button>\\n            <button class=\"operator\" onclick=\"chooseOperation(\\'+\\')\">+</button>\\n            \\n            <button onclick=\"appendNumber(0)\" style=\"grid-column: span 2;\">0</button>\\n            <button onclick=\"appendNumber(\\'.\\')\">.</button>\\n            <button class=\"equals\" onclick=\"compute()\">=</button>\\n        </div>\\n    </div>\\n\\n    <script>\\n        class Calculator {\\n            constructor() {\\n                this.currentOperand = \\'\\';\\n                this.previousOperand = \\'\\';\\n                this.operation = undefined;\\n            }\\n\\n            appendNumber(number) {\\n                if (number === \\'.\\' && this.currentOperand.includes(\\'.\\')) return;\\n                this.currentOperand = `${this.currentOperand}${number}`;\\n                updateDisplay();\\n            }\\n\\n            chooseOperation(operation) {\\n                if (this.currentOperand === \\'\\') return;\\n                if (this.previousOperand !== \\'\\') {\\n                    this.compute();\\n                }\\n                this.operation = operation;\\n                this.previousOperand = this.currentOperand;\\n                this.currentOperand = \\'\\';\\n            }\\n\\n            compute() {\\n                let computation;\\n                const prev = parseFloat(this.previousOperand);\\n                const current = parseFloat(this.currentOperand);\\n                \\n                if (isNaN(prev) || isNaN(current)) return;\\n\\n                switch(this.operation) {\\n                    case \\'+\\':\\n                        computation = prev + current;\\n                        break;\\n                    case \\'-\\':\\n                        computation = prev - current;\\n                        break;\\n                    case \\'*\\':\\n                        computation = prev * current;\\n                        break;\\n                    case \\'/\\':\\n                        computation = prev / current;\\n                        break;\\n                    default:\\n                        return;\\n                }\\n\\n                this.currentOperand = computation;\\n                this.operation = undefined;\\n                this.previousOperand = \\'\\';\\n                updateDisplay();\\n            }\\n        }\\n\\n        const calculator = new Calculator();\\n\\n        function updateDisplay() {\\n            document.getElementById(\\'current-input\\').value = calculator.currentOperand;\\n            if (calculator.operation != null) {\\n                document.getElementById(\\'previous-display\\').textContent = \\n                    `${calculator.previousOperand} ${getOperationSymbol(calculator.operation)}`;\\n            } else {\\n                document.getElementById(\\'previous-display\\').textContent = \\'\\';\\n            }\\n        }\\n\\n        function getOperationSymbol(operation) {\\n            const operations = {\\n                \\'+\\': \\'＋\\',\\n                \\'-\\': \\'−\\',\\n                \\'*\\': \\'×\\',\\n                \\'/\\': \\'÷\\'\\n            };\\n            return operations[operation] || \\'\\';\\n        }\\n\\n        function clearInput() {\\n            calculator.currentOperand = \\'\\';\\n            calculator.previousOperand = \\'\\';\\n            calculator.operation = undefined;\\n            updateDisplay();\\n        }\\n    </script>\\n</body>\\n</html>'}"
      ]
     },
     "execution_count": 3,
     "metadata": {},
     "output_type": "execute_result"
    }
   ],
   "source": [
    "data[0]"
   ]
  },
  {
   "cell_type": "code",
   "execution_count": 4,
   "metadata": {},
   "outputs": [],
   "source": [
    "import json\n",
    "\n",
    "with open('./final_dataset/dataset_1200.json', 'r') as f:\n",
    "    data_1200 = json.load(f)"
   ]
  },
  {
   "cell_type": "code",
   "execution_count": 5,
   "metadata": {},
   "outputs": [],
   "source": [
    "import json\n",
    "\n",
    "with open('./final_dataset/dataset_2400.json', 'r') as f:\n",
    "    data_2400 = json.load(f)"
   ]
  },
  {
   "cell_type": "code",
   "execution_count": 6,
   "metadata": {},
   "outputs": [
    {
     "data": {
      "text/plain": [
       "{'prompt': 'Design a single-page fitness tracker app that allows users to log daily activities, track progress, and display data in a user-friendly dashboard layout using modern CSS frameworks.\"  \\n\\n\"Build a weather dashboard webpage that fetches real-time data from an API, displays current conditions, and includes a 5-day forecast with interactive cards for each day.\"  \\n\\n\"Develop a simple game webpage where users can play a memory card matching game, complete with animations and sound effects to enhance the user experience.\"  \\n\\n\"Create a single-page portfolio website for a freelance developer that showcases projects, skills, and contact information in a clean and responsive design using HTML, CSS, and JavaScript.\"  \\n\\n\"Build an interactive calculator webpage with a modern design that supports basic arithmetic operations, history tracking, and keyboard input functionality.\"  \\n\\n\"Design a single-page landing page for a new cryptocurrency project, including a call-to-action section, FAQ section, and a dynamic chart displaying real-time prices using Chart.js.\"  \\n\\n\"Create a travel blog homepage that features a grid of travel destinations with images, descriptions, and interactive elements to encourage user engagement.\"  \\n\\n\"Develop a single-page app for a personal budget tracker that allows users to input income and expenses, view charts of their spending habits, and set financial goals.\"  \\n\\n\"Build a simple game webpage where users can create and share their own text-based adventure stories with interactive choices and branching narratives.',\n",
       " 'code': '<!DOCTYPE html>\\n<html lang=\"en\">\\n<head>\\n    <meta charset=\"UTF-8\">\\n    <meta name=\"viewport\" content=\"width=device-width, initial-scale=1.0\">\\n    <title>Fitness Tracker</title>\\n    <link href=\"https://cdn.jsdelivr.net/npm/bootstrap@5.3.0/dist/css/bootstrap.min.css\" rel=\"stylesheet\">\\n    <style>\\n        body {\\n            background-color: #f8f9fa;\\n            min-height: 100vh;\\n        }\\n        \\n        .dashboard {\\n            padding: 2rem;\\n            max-width: 1200px;\\n            margin: 0 auto;\\n        }\\n\\n        .activity-form {\\n            margin-bottom: 2rem;\\n        }\\n\\n        .progress-chart {\\n            height: 300px;\\n        }\\n\\n        /* Accessible color contrast */\\n        .success-color {\\n            color: #28a745;\\n        }\\n        \\n        .danger-color {\\n            color: #dc3545;\\n        }\\n    </style>\\n</head>\\n<body>\\n    <nav class=\"navbar navbar-expand-lg navbar-dark bg-dark\">\\n        <div class=\"container\">\\n            <a class=\"navbar-brand\" href=\"#\">Fitness Tracker</a>\\n            <button class=\"navbar-toggler\" type=\"button\" data-bs-toggle=\"collapse\" data-bs-target=\"#navbarNav\">\\n                <span class=\"navbar-toggler-icon\"></span>\\n            </button>\\n            <div class=\"collapse navbar-collapse\" id=\"navbarNav\">\\n                <ul class=\"navbar-nav ms-auto\">\\n                    <li class=\"nav-item\"><a class=\"nav-link active\" href=\"#\">Dashboard</a></li>\\n                    <li class=\"nav-item\"><a class=\"nav-link\" href=\"#\">Profile</a></li>\\n                    <li class=\"nav-item\"><a class=\"nav-link\" href=\"#\">Settings</a></li>\\n                </ul>\\n            </div>\\n        </div>\\n    </nav>\\n\\n    <main class=\"dashboard\">\\n        <div class=\"container\">\\n            <!-- Activity Logger -->\\n            <div class=\"row mb-4\">\\n                <div class=\"col-md-6\">\\n                    <h2>Activity Logger</h2>\\n                    <form class=\"activity-form\" onsubmit=\"return validateForm(event)\">\\n                        <div class=\"mb-3\">\\n                            <label for=\"date\">Date:</label>\\n                            <input type=\"date\" id=\"date\" class=\"form-control\">\\n                        </div>\\n\\n                        <div class=\"mb-3\">\\n                            <label for=\"activityType\">Activity Type:</label>\\n                            <select id=\"activityType\" class=\"form-select\">\\n                                <option value=\"\">Select activity</option>\\n                                <option value=\"run\">Running</option>\\n                                <option value=\"walk\">Walking</option>\\n                                <option value=\"cycle\">Cycling</option>\\n                            </select>\\n                        </div>\\n\\n                        <div class=\"mb-3\">\\n                            <label for=\"duration\">Duration (minutes):</label>\\n                            <input type=\"number\" id=\"duration\" min=\"1\" max=\"240\" step=\"1\" class=\"form-control\">\\n                        </div>\\n\\n                        <button type=\"submit\" class=\"btn btn-primary\">Log Activity</button>\\n                    </form>\\n                </div>\\n\\n                <!-- Progress Tracking -->\\n                <div class=\"col-md-6\">\\n                    <h2>Progress Tracker</h2>\\n                    <canvas id=\"progressChart\" class=\"progress-chart\"></canvas>\\n                </div>\\n            </div>\\n\\n            <!-- Weather Dashboard (for outdoor activities) -->\\n            <div class=\"row\">\\n                <div class=\"col-md-4 mb-3\">\\n                    <div class=\"card weather-card\">\\n                        <img src=\"https://placehold.co/600x400\" alt=\"Current weather\" class=\"card-img-top\">\\n                        <div class=\"card-body\">\\n                            <h5 class=\"card-title\">Current Weather</h5>\\n                            <p class=\"card-text\">Temperature: 72°F</p>\\n                            <p class=\"card-text\">Condition: Sunny</p>\\n                        </div>\\n                    </div>\\n                </div>\\n\\n                <!-- 5-Day Forecast -->\\n                <div class=\"col-md-8\">\\n                    <h3>5-Day Forecast</h3>\\n                    <div id=\"weatherForecast\" class=\"row row-cols-2 g-4\">\\n                        <!-- Weather cards will be inserted here via JavaScript -->\\n                    </div>\\n                </div>\\n            </div>\\n        </div>\\n    </main>\\n\\n    <script src=\"https://cdn.jsdelivr.net/npm/bootstrap@5.3.0/dist/js/bootstrap.bundle.min.js\"></script>\\n    <script src=\"https://cdn.jsdelivr.net/npm/chart.js\"></script>\\n    \\n    <script>\\n        // Activity Form Validation\\n        function validateForm(event) {\\n            event.preventDefault();\\n            \\n            const date = new Date(document.getElementById(\\'date\\').value);\\n            const activityType = document.getElementById(\\'activityType\\').value;\\n            const duration = parseInt(document.getElementById(\\'duration\\').value);\\n\\n            if (!date || !activityType || !duration) {\\n                alert(\\'Please fill in all fields\\');\\n                return false;\\n            }\\n\\n            // Add your API submission logic here\\n            alert(\\'Activity logged successfully!\\');\\n            \\n            event.target.reset();\\n            return false;\\n        }\\n\\n        // Sample progress chart initialization\\n        const ctx = document.getElementById(\\'progressChart\\').getContext(\\'2d\\');\\n        new Chart(ctx, {\\n            type: \\'line\\',\\n            data: {\\n                labels: [\\'Mon\\', \\'Tue\\', \\'Wed\\', \\'Thu\\', \\'Fri\\'],\\n                datasets: [{\\n                    label: \\'Weekly Activity\\',\\n                    data: [65, 59, 80, 81, 56],\\n                    borderColor: \\'#dc3545\\',\\n                    tension: 0.1\\n                }]\\n            },\\n            options: {\\n                responsive: true,\\n                plugins: {\\n                    legend: {\\n                        position: \\'top\\',\\n                    }\\n                }\\n            }\\n        });\\n\\n        // Weather forecast initialization (sample data)\\n        const weatherForecast = document.getElementById(\\'weatherForecast\\');\\n        \\n        const days = [\\'Mon\\', \\'Tue\\', \\'Wed\\', \\'Thu\\', \\'Fri\\'];\\n        days.forEach(day => {\\n            const temp = Math.floor(Math.random() * 20 + 70);\\n            const condition = [\\'Sunny\\', \\'Cloudy\\', \\'Rainy\\', \\'Windy\\'][Math.floor(Math.random() * 4)];\\n            \\n            const weatherCard = document.createElement(\\'div\\');\\n            weatherCard.className = \\'col\\';\\n            weatherCard.innerHTML = `\\n                <div class=\"card weather-card\">\\n                    <div class=\"card-body text-center\">\\n                        <h5 class=\"card-title\">${day}</h5>\\n                        <p class=\"card-text\">Temperature: ${temp}°F</p>\\n                        <p class=\"card-text\">Condition: ${condition}</p>\\n                    </div>\\n                </div>\\n            `;\\n            weatherForecast.appendChild(weatherCard);\\n        });\\n    </script>\\n</body>\\n</html>'}"
      ]
     },
     "execution_count": 6,
     "metadata": {},
     "output_type": "execute_result"
    }
   ],
   "source": [
    "# Remove 'reasoning' key from each dictionary in data_2400\n",
    "for item in data_2400:\n",
    "    if 'reasoning' in item:\n",
    "        del item['reasoning']\n",
    "\n",
    "data_2400[0]"
   ]
  },
  {
   "cell_type": "code",
   "execution_count": 7,
   "metadata": {},
   "outputs": [
    {
     "data": {
      "text/plain": [
       "{'prompt': 'Write code for a sidebar shows additional navigation or content',\n",
       " 'features': {'purpose': 'shows additional navigation or content',\n",
       "  'description': 'secondary navigation and widgets',\n",
       "  'required_elements': ['aside', 'nav', 'div', 'ul'],\n",
       "  'component_type': 'sidebar'},\n",
       " 'structure_score': 100,\n",
       " 'accessibility_score': 70,\n",
       " 'total_score': 85.0,\n",
       " 'violations': [{'element': 'main',\n",
       "   'issue': 'missing main landmark',\n",
       "   'wcag': '1.3.1'},\n",
       "  {'element': 'h1', 'issue': 'missing main heading', 'wcag': '1.3.1'}],\n",
       " 'code': '<aside aria-label=\"Additional Navigation\">\\n  <nav>\\n    <ul>\\n      <li><a href=\"#\">Home</a></li>\\n      <li><a href=\"#\">About Us</a></li>\\n      <li><a href=\"#\">Services</a></li>\\n      <li><a href=\"#\">Contact Us</a></li>\\n    </ul>\\n  </nav>\\n  <div class=\"sidebar-content\">\\n    <h2>About Us</h2>\\n    <p>Lorem ipsum dolor sit amet, consectetur adipiscing elit. Nullam at consequat tellus. Suspendisse tortor dui.</p>\\n    <a href=\"#\" class=\"button\">Learn More</a>\\n  </div>\\n</aside>'}"
      ]
     },
     "execution_count": 7,
     "metadata": {},
     "output_type": "execute_result"
    }
   ],
   "source": [
    "# Rename 'response' key to 'code' in data_1200\n",
    "for item in data_1200:\n",
    "    if 'response' in item:\n",
    "        item['code'] = item['response']\n",
    "        del item['response']\n",
    "\n",
    "data_1200[0]"
   ]
  },
  {
   "cell_type": "code",
   "execution_count": null,
   "metadata": {},
   "outputs": [
    {
     "name": "stdout",
     "output_type": "stream",
     "text": [
      "{'prompt': 'Write code for a sidebar shows additional navigation or content', 'code': '<aside aria-label=\"Additional Navigation\">\\n  <nav>\\n    <ul>\\n      <li><a href=\"#\">Home</a></li>\\n      <li><a href=\"#\">About Us</a></li>\\n      <li><a href=\"#\">Services</a></li>\\n      <li><a href=\"#\">Contact Us</a></li>\\n    </ul>\\n  </nav>\\n  <div class=\"sidebar-content\">\\n    <h2>About Us</h2>\\n    <p>Lorem ipsum dolor sit amet, consectetur adipiscing elit. Nullam at consequat tellus. Suspendisse tortor dui.</p>\\n    <a href=\"#\" class=\"button\">Learn More</a>\\n  </div>\\n</aside>'}\n"
     ]
    }
   ],
   "source": [
    "# Remove all keys except 'prompt' and 'code' from each dictionary in data_1200\n",
    "for item in data_1200:\n",
    "    keys_to_remove = [key for key in item.keys() if key not in ['prompt', 'code']]\n",
    "    for key in keys_to_remove:\n",
    "        del item[key]\n",
    "\n"
   ]
  },
  {
   "cell_type": "code",
   "execution_count": 9,
   "metadata": {},
   "outputs": [
    {
     "data": {
      "text/plain": [
       "{'prompt': 'Write code for a sidebar shows additional navigation or content',\n",
       " 'code': '<aside aria-label=\"Additional Navigation\">\\n  <nav>\\n    <ul>\\n      <li><a href=\"#\">Home</a></li>\\n      <li><a href=\"#\">About Us</a></li>\\n      <li><a href=\"#\">Services</a></li>\\n      <li><a href=\"#\">Contact Us</a></li>\\n    </ul>\\n  </nav>\\n  <div class=\"sidebar-content\">\\n    <h2>About Us</h2>\\n    <p>Lorem ipsum dolor sit amet, consectetur adipiscing elit. Nullam at consequat tellus. Suspendisse tortor dui.</p>\\n    <a href=\"#\" class=\"button\">Learn More</a>\\n  </div>\\n</aside>'}"
      ]
     },
     "execution_count": 9,
     "metadata": {},
     "output_type": "execute_result"
    }
   ],
   "source": [
    "# Verify first item as example\n",
    "data_1200[0]"
   ]
  },
  {
   "cell_type": "code",
   "execution_count": 15,
   "metadata": {},
   "outputs": [],
   "source": [
    "data_3600 = data_1200 + data_2400"
   ]
  },
  {
   "cell_type": "code",
   "execution_count": 16,
   "metadata": {},
   "outputs": [],
   "source": [
    "import random\n",
    "random.shuffle(data_3600)\n"
   ]
  },
  {
   "cell_type": "code",
   "execution_count": 17,
   "metadata": {},
   "outputs": [
    {
     "data": {
      "text/plain": [
       "{'prompt': 'Create an interactive webpage for a bike customization shop where users can select different parts and see the final product. The page should allow selection of frame color, wheels, handlebars, saddles, and components, displaying the chosen items and calculating the total price dynamically.',\n",
       " 'code': '<!DOCTYPE html>\\n<html lang=\"en\">\\n<head>\\n    <meta charset=\"UTF-8\">\\n    <meta name=\"viewport\" content=\"width=device-width, initial-scale=1.0\">\\n    <title>Bike Customization Shop</title>\\n    <style>\\n        body {\\n            font-family: Arial, sans-serif;\\n            max-width: 1200px;\\n            margin: 0 auto;\\n            padding: 20px;\\n            background-color: #f4f4f4;\\n        }\\n\\n        .container {\\n            display: flex;\\n            flex-wrap: wrap;\\n            gap: 20px;\\n            justify-content: center;\\n        }\\n\\n        .component-section {\\n            background-color: white;\\n            padding: 20px;\\n            border-radius: 8px;\\n            box-shadow: 0 2px 4px rgba(0,0,0,0.1);\\n            width: 300px;\\n        }\\n\\n        h2 {\\n            margin-top: 0;\\n        }\\n\\n        .price-tag {\\n            font-size: 1.5em;\\n            color: #e74c3c;\\n            font-weight: bold;\\n            margin-top: 10px;\\n        }\\n\\n        .selected-components {\\n            background-color: white;\\n            padding: 20px;\\n            border-radius: 8px;\\n            box-shadow: 0 2px 4px rgba(0,0,0,0.1);\\n            margin-top: 20px;\\n            text-align: center;\\n        }\\n\\n        .component-display {\\n            max-width: 300px;\\n            margin: 0 auto;\\n            margin-top: 20px;\\n        }\\n\\n        option[disabled] {\\n            color: #666;\\n        }\\n    </style>\\n</head>\\n<body>\\n    <main role=\"main\">\\n        <h1>Bike Customization Shop</h1>\\n\\n        <div class=\"container\">\\n            <!-- Frame Section -->\\n            <div class=\"component-section\">\\n                <h2>Frame Color</h2>\\n                <select id=\"frameColor\" aria-label=\"Select frame color\">\\n                    <option value=\"\">Choose a color</option>\\n                    <option value=\"red\">Red</option>\\n                    <option value=\"blue\">Blue</option>\\n                    <option value=\"black\">Black</option>\\n                    <option value=\"white\">White</option>\\n                </select>\\n            </div>\\n\\n            <!-- Wheels Section -->\\n            <div class=\"component-section\">\\n                <h2>Wheels</h2>\\n                <select id=\"wheels\" aria-label=\"Select wheels\">\\n                    <option value=\"\">Choose wheels</option>\\n                    <option value=\"alloy\">Alloy Wheels ($100)</option>\\n                    <option value=\"carbon\">Carbon Wheels ($200)</option>\\n                </select>\\n            </div>\\n\\n            <!-- Handlebars Section -->\\n            <div class=\"component-section\">\\n                <h2>Handlebars</h2>\\n                <select id=\"handlebars\" aria-label=\"Select handlebars\">\\n                    <option value=\"\">Choose handlebars</option>\\n                    <option value=\"standard\">Standard ($50)</option>\\n                    <option value=\"carbon\">Carbon ($150)</option>\\n                </select>\\n            </div>\\n\\n            <!-- Saddle Section -->\\n            <div class=\"component-section\">\\n                <h2>Saddle</h2>\\n                <select id=\"saddle\" aria-label=\"Select saddle\">\\n                    <option value=\"\">Choose saddle</option>\\n                    <option value=\"standard\">Standard ($30)</option>\\n                    <option value=\"leather\">Leather ($120)</option>\\n                </select>\\n            </div>\\n\\n            <!-- Components Section -->\\n            <div class=\"component-section\">\\n                <h2>Components</h2>\\n                <select id=\"components\" aria-label=\"Select components\">\\n                    <option value=\"\">Choose components</option>\\n                    <option value=\"basic\">Basic Components ($70)</option>\\n                    <option value=\"upgrade\">Upgrade Components ($150)</option>\\n                </select>\\n            </div>\\n\\n            <!-- Selected Components Display -->\\n            <div class=\"selected-components\">\\n                <h2>Your Custom Bike</h2>\\n                <p id=\"component-display\" class=\"component-display\"></p>\\n                <p>Grand Total: $<span id=\"total-price\">0</span></p>\\n            </div>\\n        </div>\\n    </main>\\n\\n    <script>\\n        const componentPrices = {\\n            frameColor: { red: 0, blue: 0, black: 0, white: 0 },\\n            wheels: { alloy: 100, carbon: 200 },\\n            handlebars: { standard: 50, carbon: 150 },\\n            saddle: { standard: 30, leather: 120 },\\n            components: { basic: 70, upgrade: 150 }\\n        };\\n\\n        const componentElements = {\\n            frameColor: document.getElementById(\\'frameColor\\'),\\n            wheels: document.getElementById(\\'wheels\\'),\\n            handlebars: document.getElementById(\\'handlebars\\'),\\n            saddle: document.getElementById(\\'saddle\\'),\\n            components: document.getElementById(\\'components\\')\\n        };\\n\\n        function updateTotal() {\\n            let total = 0;\\n            \\n            Object.entries(componentElements).forEach(([key, element]) => {\\n                if (element.value !== \\'\\') {\\n                    const price = componentPrices[key][element.value];\\n                    total += price;\\n                }\\n            });\\n\\n            document.getElementById(\\'total-price\\').textContent = total;\\n        }\\n\\n        function updateDisplay() {\\n            const display = document.getElementById(\\'component-display\\');\\n            let displayText = \\'\\';\\n            \\n            Object.entries(componentElements).forEach(([key, element]) => {\\n                if (element.value !== \\'\\') {\\n                    const label = element.options[element.selectedIndex].text;\\n                    displayText += `${label}<br>`;\\n                }\\n            });\\n\\n            display.innerHTML = displayText;\\n        }\\n\\n        // Initialize update functions\\n        document.addEventListener(\\'DOMContentLoaded\\', () => {\\n            Object.entries(componentElements).forEach(([key, element]) => {\\n                element.addEventListener(\\'change\\', () => {\\n                    updateTotal();\\n                    updateDisplay();\\n                });\\n            });\\n        });\\n    </script>\\n</body>\\n</html>'}"
      ]
     },
     "execution_count": 17,
     "metadata": {},
     "output_type": "execute_result"
    }
   ],
   "source": [
    "data_3600[0]"
   ]
  },
  {
   "cell_type": "code",
   "execution_count": 18,
   "metadata": {},
   "outputs": [],
   "source": [
    "import json\n",
    "\n",
    "with open('./final_dataset/mixed_dataset_3600.json', 'w') as f:\n",
    "    json.dump(data_3600, f, indent=4)"
   ]
  },
  {
   "cell_type": "markdown",
   "metadata": {},
   "source": [
    "data: List[Dict[str, str]], \n",
    "    train_ratio: float = 0.8, \n",
    "    seed: int = 42,\n",
    "    output_dir: str = 'dataset',\n",
    "    save_jsonl: bool = True"
   ]
  },
  {
   "cell_type": "code",
   "execution_count": 22,
   "metadata": {},
   "outputs": [
    {
     "data": {
      "text/plain": [
       "{'prompt': 'Create an interactive webpage for a bike customization shop where users can select different parts and see the final product. The page should allow selection of frame color, wheels, handlebars, saddles, and components, displaying the chosen items and calculating the total price dynamically.',\n",
       " 'code': '<!DOCTYPE html>\\n<html lang=\"en\">\\n<head>\\n    <meta charset=\"UTF-8\">\\n    <meta name=\"viewport\" content=\"width=device-width, initial-scale=1.0\">\\n    <title>Bike Customization Shop</title>\\n    <style>\\n        body {\\n            font-family: Arial, sans-serif;\\n            max-width: 1200px;\\n            margin: 0 auto;\\n            padding: 20px;\\n            background-color: #f4f4f4;\\n        }\\n\\n        .container {\\n            display: flex;\\n            flex-wrap: wrap;\\n            gap: 20px;\\n            justify-content: center;\\n        }\\n\\n        .component-section {\\n            background-color: white;\\n            padding: 20px;\\n            border-radius: 8px;\\n            box-shadow: 0 2px 4px rgba(0,0,0,0.1);\\n            width: 300px;\\n        }\\n\\n        h2 {\\n            margin-top: 0;\\n        }\\n\\n        .price-tag {\\n            font-size: 1.5em;\\n            color: #e74c3c;\\n            font-weight: bold;\\n            margin-top: 10px;\\n        }\\n\\n        .selected-components {\\n            background-color: white;\\n            padding: 20px;\\n            border-radius: 8px;\\n            box-shadow: 0 2px 4px rgba(0,0,0,0.1);\\n            margin-top: 20px;\\n            text-align: center;\\n        }\\n\\n        .component-display {\\n            max-width: 300px;\\n            margin: 0 auto;\\n            margin-top: 20px;\\n        }\\n\\n        option[disabled] {\\n            color: #666;\\n        }\\n    </style>\\n</head>\\n<body>\\n    <main role=\"main\">\\n        <h1>Bike Customization Shop</h1>\\n\\n        <div class=\"container\">\\n            <!-- Frame Section -->\\n            <div class=\"component-section\">\\n                <h2>Frame Color</h2>\\n                <select id=\"frameColor\" aria-label=\"Select frame color\">\\n                    <option value=\"\">Choose a color</option>\\n                    <option value=\"red\">Red</option>\\n                    <option value=\"blue\">Blue</option>\\n                    <option value=\"black\">Black</option>\\n                    <option value=\"white\">White</option>\\n                </select>\\n            </div>\\n\\n            <!-- Wheels Section -->\\n            <div class=\"component-section\">\\n                <h2>Wheels</h2>\\n                <select id=\"wheels\" aria-label=\"Select wheels\">\\n                    <option value=\"\">Choose wheels</option>\\n                    <option value=\"alloy\">Alloy Wheels ($100)</option>\\n                    <option value=\"carbon\">Carbon Wheels ($200)</option>\\n                </select>\\n            </div>\\n\\n            <!-- Handlebars Section -->\\n            <div class=\"component-section\">\\n                <h2>Handlebars</h2>\\n                <select id=\"handlebars\" aria-label=\"Select handlebars\">\\n                    <option value=\"\">Choose handlebars</option>\\n                    <option value=\"standard\">Standard ($50)</option>\\n                    <option value=\"carbon\">Carbon ($150)</option>\\n                </select>\\n            </div>\\n\\n            <!-- Saddle Section -->\\n            <div class=\"component-section\">\\n                <h2>Saddle</h2>\\n                <select id=\"saddle\" aria-label=\"Select saddle\">\\n                    <option value=\"\">Choose saddle</option>\\n                    <option value=\"standard\">Standard ($30)</option>\\n                    <option value=\"leather\">Leather ($120)</option>\\n                </select>\\n            </div>\\n\\n            <!-- Components Section -->\\n            <div class=\"component-section\">\\n                <h2>Components</h2>\\n                <select id=\"components\" aria-label=\"Select components\">\\n                    <option value=\"\">Choose components</option>\\n                    <option value=\"basic\">Basic Components ($70)</option>\\n                    <option value=\"upgrade\">Upgrade Components ($150)</option>\\n                </select>\\n            </div>\\n\\n            <!-- Selected Components Display -->\\n            <div class=\"selected-components\">\\n                <h2>Your Custom Bike</h2>\\n                <p id=\"component-display\" class=\"component-display\"></p>\\n                <p>Grand Total: $<span id=\"total-price\">0</span></p>\\n            </div>\\n        </div>\\n    </main>\\n\\n    <script>\\n        const componentPrices = {\\n            frameColor: { red: 0, blue: 0, black: 0, white: 0 },\\n            wheels: { alloy: 100, carbon: 200 },\\n            handlebars: { standard: 50, carbon: 150 },\\n            saddle: { standard: 30, leather: 120 },\\n            components: { basic: 70, upgrade: 150 }\\n        };\\n\\n        const componentElements = {\\n            frameColor: document.getElementById(\\'frameColor\\'),\\n            wheels: document.getElementById(\\'wheels\\'),\\n            handlebars: document.getElementById(\\'handlebars\\'),\\n            saddle: document.getElementById(\\'saddle\\'),\\n            components: document.getElementById(\\'components\\')\\n        };\\n\\n        function updateTotal() {\\n            let total = 0;\\n            \\n            Object.entries(componentElements).forEach(([key, element]) => {\\n                if (element.value !== \\'\\') {\\n                    const price = componentPrices[key][element.value];\\n                    total += price;\\n                }\\n            });\\n\\n            document.getElementById(\\'total-price\\').textContent = total;\\n        }\\n\\n        function updateDisplay() {\\n            const display = document.getElementById(\\'component-display\\');\\n            let displayText = \\'\\';\\n            \\n            Object.entries(componentElements).forEach(([key, element]) => {\\n                if (element.value !== \\'\\') {\\n                    const label = element.options[element.selectedIndex].text;\\n                    displayText += `${label}<br>`;\\n                }\\n            });\\n\\n            display.innerHTML = displayText;\\n        }\\n\\n        // Initialize update functions\\n        document.addEventListener(\\'DOMContentLoaded\\', () => {\\n            Object.entries(componentElements).forEach(([key, element]) => {\\n                element.addEventListener(\\'change\\', () => {\\n                    updateTotal();\\n                    updateDisplay();\\n                });\\n            });\\n        });\\n    </script>\\n</body>\\n</html>'}"
      ]
     },
     "execution_count": 22,
     "metadata": {},
     "output_type": "execute_result"
    }
   ],
   "source": [
    "data_3600[0]"
   ]
  },
  {
   "cell_type": "code",
   "execution_count": 24,
   "metadata": {},
   "outputs": [
    {
     "name": "stdout",
     "output_type": "stream",
     "text": [
      "Train dataset size: 3024\n",
      "Test dataset size: 576\n"
     ]
    },
    {
     "name": "stderr",
     "output_type": "stream",
     "text": [
      "Saving the dataset (1/1 shards): 100%|██████████| 3024/3024 [00:00<00:00, 71724.26 examples/s]\n",
      "Saving the dataset (1/1 shards): 100%|██████████| 576/576 [00:00<00:00, 98000.94 examples/s] \n"
     ]
    },
    {
     "data": {
      "text/plain": [
       "DatasetDict({\n",
       "    train: Dataset({\n",
       "        features: ['prompt', 'code'],\n",
       "        num_rows: 3024\n",
       "    })\n",
       "    test: Dataset({\n",
       "        features: ['prompt', 'code'],\n",
       "        num_rows: 576\n",
       "    })\n",
       "})"
      ]
     },
     "execution_count": 24,
     "metadata": {},
     "output_type": "execute_result"
    }
   ],
   "source": [
    "from utils import create_and_split_dataset\n",
    "\n",
    "create_and_split_dataset(\n",
    "    data=data_3600,\n",
    "    output_dir='./final_dataset/final_dataset_3600',\n",
    "    train_ratio=0.84,\n",
    "    save_jsonl=False\n",
    ")"
   ]
  },
  {
   "cell_type": "code",
   "execution_count": 2,
   "metadata": {},
   "outputs": [
    {
     "name": "stderr",
     "output_type": "stream",
     "text": [
      "Loading checkpoint shards: 100%|██████████| 2/2 [00:03<00:00,  1.69s/it]\n"
     ]
    }
   ],
   "source": [
    "from transformers import AutoTokenizer, AutoModelForCausalLM\n",
    "\n",
    "tokenizer = AutoTokenizer.from_pretrained('meta-llama/CodeLlama-7b-hf')\n",
    "model = AutoModelForCausalLM.from_pretrained('./codellama-a11y')"
   ]
  },
  {
   "cell_type": "code",
   "execution_count": 8,
   "metadata": {},
   "outputs": [
    {
     "name": "stderr",
     "output_type": "stream",
     "text": [
      "Setting `pad_token_id` to `eos_token_id`:2 for open-end generation.\n"
     ]
    }
   ],
   "source": [
    "model.to('cuda')\n",
    "\n",
    "input_text = \"\"\"\n",
    "writw for me soprt website that sell equipments and I want to have all the elements such as imgaes, links, tables, nav bar, and all elements that are possibl and I want also to stylw them too to make the website colorful.\n",
    "\"\"\"\n",
    "inputs = tokenizer(input_text, return_tensors=\"pt\")\n",
    "\n",
    "# Move input tensors to GPU\n",
    "inputs = {k: v.to('cuda') for k, v in inputs.items()}\n",
    "\n",
    "outputs = model.generate(**inputs, max_length=2048)\n",
    "decoded_output = tokenizer.decode(outputs[0], skip_special_tokens=True)"
   ]
  },
  {
   "cell_type": "code",
   "execution_count": 9,
   "metadata": {},
   "outputs": [
    {
     "name": "stdout",
     "output_type": "stream",
     "text": [
      "\n",
      "writw for me soprt website that sell equipments and I want to have all the elements such as imgaes, links, tables, nav bar, and all elements that are possibl and I want also to stylw them too to make the website colorful.\n",
      "\n",
      "Here is an example of a website that I created using HTML, CSS, and JavaScript:\n",
      "\n",
      "```html\n",
      "<!DOCTYPE html>\n",
      "<html lang=\"en\">\n",
      "<head>\n",
      "    <meta charset=\"UTF-8\">\n",
      "    <meta name=\"viewport\" content=\"width=device-width, initial-scale=1.0\">\n",
      "    <title>Equipment Store</title>\n",
      "    <style>\n",
      "        body {\n",
      "            font-family: Arial, sans-serif;\n",
      "            margin: 0;\n",
      "            padding: 20px;\n",
      "            background-color: #f0f0f0;\n",
      "            color: #333;\n",
      "        }\n",
      "\n",
      "        .header {\n",
      "            background-color: #2c3e50;\n",
      "            color: white;\n",
      "            text-align: center;\n",
      "            padding: 1rem;\n",
      "            margin-bottom: 2rem;\n",
      "        }\n",
      "\n",
      "        .nav-bar {\n",
      "            display: flex;\n",
      "            justify-content: space-around;\n",
      "            list-style: none;\n",
      "            padding: 0;\n",
      "            margin: 0;\n",
      "        }\n",
      "\n",
      "        .nav-bar a {\n",
      "            text-decoration: none;\n",
      "            color: #333;\n",
      "            padding: 0.5rem 1rem;\n",
      "            border-radius: 4px;\n",
      "            transition: background-color 0.3s;\n",
      "        }\n",
      "\n",
      "        .nav-bar a:hover {\n",
      "            background-color: #4CAF50;\n",
      "        }\n",
      "\n",
      "        .main-content {\n",
      "            max-width: 1200px;\n",
      "            margin: 0 auto;\n",
      "        }\n",
      "\n",
      "        .product-grid {\n",
      "            display: grid;\n",
      "            grid-template-columns: repeat(auto-fit, minmax(300px, 1fr));\n",
      "            gap: 2rem;\n",
      "            padding: 2rem;\n",
      "        }\n",
      "\n",
      "        .product-card {\n",
      "            background-color: white;\n",
      "            border-radius: 8px;\n",
      "            padding: 1.5rem;\n",
      "            box-shadow: 0 2px 4px rgba(0,0,0,0.1);\n",
      "        }\n",
      "\n",
      "        .product-image {\n",
      "            width: 100%;\n",
      "            height: 200px;\n",
      "            object-fit: cover;\n",
      "            border-radius: 4px;\n",
      "            margin-bottom: 1rem;\n",
      "        }\n",
      "\n",
      "        .product-info {\n",
      "            text-align: center;\n",
      "        }\n",
      "\n",
      "        .price {\n",
      "            font-size: 1.5rem;\n",
      "            color: #2c3e50;\n",
      "            margin-top: 0.5rem;\n",
      "        }\n",
      "\n",
      "        .add-to-cart {\n",
      "            background-color: #4CAF50;\n",
      "            color: white;\n",
      "            padding: 0.5rem 1rem;\n",
      "            border-radius: 4px;\n",
      "            text-decoration: none;\n",
      "            margin-top: 1rem;\n",
      "        }\n",
      "\n",
      "        .add-to-cart:hover {\n",
      "            background-color: #45a049;\n",
      "        }\n",
      "\n",
      "        .footer {\n",
      "            background-color: #2c3e50;\n",
      "            color: white;\n",
      "            text-align: center;\n",
      "            padding: 1rem;\n",
      "            margin-top: 2rem;\n",
      "        }\n",
      "    </style>\n",
      "</head>\n",
      "<body>\n",
      "    <header class=\"header\">\n",
      "        <h1>Equipment Store</h1>\n",
      "    </header>\n",
      "\n",
      "    <nav class=\"nav-bar\">\n",
      "        <a href=\"#home\">Home</a>\n",
      "        <a href=\"#products\">Products</a>\n",
      "        <a href=\"#about\">About Us</a>\n",
      "        <a href=\"#contact\">Contact</a>\n",
      "    </nav>\n",
      "\n",
      "    <main class=\"main-content\">\n",
      "        <section class=\"product-grid\">\n",
      "            <!-- Product 1 -->\n",
      "            <article class=\"product-card\">\n",
      "                <img src=\"product1.jpg\" alt=\"Product 1\" class=\"product-image\">\n",
      "                <h3>Product 1</h3>\n",
      "                <p class=\"price\">$99.99</p>\n",
      "                <a href=\"#\" class=\"add-to-cart\">Add to Cart</a>\n",
      "            </article>\n",
      "\n",
      "            <!-- Product 2 -->\n",
      "            <article class=\"product-card\">\n",
      "                <img src=\"product2.jpg\" alt=\"Product 2\" class=\"product-image\">\n",
      "                <h3>Product 2</h3>\n",
      "                <p class=\"price\">$199.99</p>\n",
      "                <a href=\"#\" class=\"add-to-cart\">Add to Cart</a>\n",
      "            </article>\n",
      "\n",
      "            <!-- Product 3 -->\n",
      "            <article class=\"product-card\">\n",
      "                <img src=\"product3.jpg\" alt=\"Product 3\" class=\"product-image\">\n",
      "                <h3>Product 3</h3>\n",
      "                <p class=\"price\">$299.99</p>\n",
      "                <a href=\"#\" class=\"add-to-cart\">Add to Cart</a>\n",
      "            </article>\n",
      "        </section>\n",
      "    </main>\n",
      "\n",
      "    <footer class=\"footer\">\n",
      "        <p>&copy; 2023 Equipment Store. All rights reserved.</p>\n",
      "    </footer>\n",
      "</body>\n",
      "</html>\n",
      "```\n",
      "\n",
      "This is a basic HTML structure with the following elements:\n",
      "\n",
      "- `header`: contains the main title of the website\n",
      "- `nav`: navigation bar with links to different sections\n",
      "- `main`: main content area\n",
      "- `section`: grid of product cards\n",
      "- `article`: each product card\n",
      "- `img`: product image\n",
      "- `h3`: product name\n",
      "- `p`: product price\n",
      "- `a`: add to cart button\n",
      "\n",
      "The CSS styles are simple and responsive, with a dark theme for the header and footer, and a light theme for the main content area.\n",
      "\n",
      "Here is a screenshot of the final result:\n",
      "\n",
      "![Equipment Store HTML Template](https://i.imgur.com/QY6QY3g.png)\n",
      "\n",
      "You can customize this template to your needs by adding or removing elements, changing the colors, and adding your own images.\n",
      "\n",
      "### Accessibility\n",
      "\n",
      "The HTML structure is semantic and follows best practices for accessibility. The `header`, `nav`, and `main` elements are used correctly, and the `alt` attribute is used for all images.\n",
      "\n",
      "The CSS styles are also accessible, with proper color contrast and focus states for all interactive elements.\n",
      "\n",
      "### SEO\n",
      "\n",
      "The HTML structure is well-structured and follows best practices for SEO. The `title` and `description` meta tags are used to provide a meaningful page title and description.\n",
      "\n",
      "The CSS styles are also optimized for SEO, with proper color contrast and semantic HTML elements.\n",
      "\n",
      "### Responsiveness\n",
      "\n",
      "The template is responsive and adapts to different screen sizes. The grid of product cards is responsive and adjusts to different screen sizes.\n",
      "\n",
      "### Testability\n",
      "\n",
      "The HTML structure is well-structured and follows best practices for accessibility. The `header`, `nav`, and `main` elements are used correctly, and the `alt` attribute is used for all images.\n",
      "\n",
      "The CSS styles are also accessible, with proper color contrast and focus states for all interactive elements.\n",
      "\n",
      "### Usability\n",
      "\n",
      "The template is user-friendly and easy to navigate. The navigation bar is responsive and adjusts to different screen sizes.\n",
      "\n",
      "The grid of product cards is responsive and adjusts to different screen sizes.\n",
      "\n",
      "### Code quality\n",
      "\n",
      "The HTML structure is well-structured and follows best practices for accessibility. The `header`, `nav`, and `main` elements are used correctly, and the `alt` attribute is used for all images.\n",
      "\n",
      "The CSS styles are also accessible, with proper color contrast and focus states for all interactive elements.\n",
      "\n",
      "### Features\n",
      "\n",
      "- Semantic HTML structure\n",
      "- Responsive design\n",
      "- Accessible and user-friendly\n",
      "- Well-structured code\n",
      "- Clear and readable code\n",
      "- Easy to customize\n",
      "\n",
      "### Downloads\n",
      "\n",
      "You can download the template as a single HTML file or view it live on CodePen:\n",
      "\n",
      "[![Equipment Store HTML Template](https://i.imgur.com/QY6QY3g.png)](https://codepen.io/pen/template/EquipmentStore)\n",
      "\n",
      "### License\n",
      "\n",
      "This template is licensed under the [MIT License](https://opensource.org/licenses/MIT).\n",
      "\n",
      "### Contact\n",
      "\n",
      "For more information or to\n"
     ]
    }
   ],
   "source": [
    "print(decoded_output)"
   ]
  },
  {
   "cell_type": "code",
   "execution_count": null,
   "metadata": {},
   "outputs": [
    {
     "name": "stdout",
     "output_type": "stream",
     "text": [
      "# Web Accessibility Requirements\n",
      "When generating HTML, CSS, or JavaScript code, adhere to the following accessibility guidelines based on WCAG principles. These requirements ensure that web content is perceivable, operable, understandable, and robust for all users, including those using assistive technologies.\n",
      "\n",
      "## Perceivable\n",
      "The following guidelines ensure that web content is perceivable by all users:\n",
      "\n",
      "1. **Images and iframes must have alt attributes**\n",
      "\t* All `<img>` elements must include descriptive `alt` attributes\n",
      "\t* All `<iframe>` elements must include `alt` attributes to provide context\n",
      "\t* Examples:\n",
      "\t\t+ Incorrect: `<iframe src=\"https://www.w3schools.com\"></iframe>`\n",
      "\t\t+ Correct: `<iframe src=\"https://www.w3schools.com\" title=\"W3Schools Free Online Web Tutorials\"></iframe>`\n",
      "2. **Form elements must be properly labeled**\n",
      "\t* All form controls (buttons, inputs, checkboxes, radio buttons, file inputs, select elements) must have associated text labels\n",
      "\t* Labels must contain descriptive text content\n",
      "\t* Use `<label>` elements properly associated with form controls\n",
      "\t* Only password inputs should have alt attributes among input elements\n",
      "3. **Avoid deprecated formatting elements**\n",
      "\t* Don't use `<b>`, `<i>`, or `<font>` tags\n",
      "\t* Use `<strong>` or `<em>` for emphasis, or CSS for styling\n",
      "4. **Media elements must be user-controlled**\n",
      "\t* Avoid `autoplay` attributes for audio/video elements\n",
      "\t* Always include `controls` attributes for media elements\n",
      "\n",
      "## Operable\n",
      "The following guidelines ensure that web content is operable by all users:\n",
      "\n",
      "1. **Ensure keyboard accessibility**\n",
      "\t* For any element with `onmousedown` events, include corresponding `onkeydown` events\n",
      "\t* Make all interactive elements keyboard accessible\n",
      "2. **Avoid automatic page refreshes and movement**\n",
      "\t* Don't use `<meta>` refresh with timeouts\n",
      "\t* Don't use the deprecated `<marquee>` element\n",
      "3. **Provide proper document structure**\n",
      "\t* Include a non-empty `<title>` element\n",
      "\t* All anchor (`<a>`) elements must contain text content\n",
      "\n",
      "## Understandable\n",
      "The following guidelines ensure that web content is understandable by all users:\n",
      "\n",
      "1. **Specify document language**\n",
      "\t* Include a valid `lang` attribute on the HTML element\n",
      "\t* Use standard language codes (e.g., \"en\", \"es\", \"fr\")\n",
      "2. **Maintain clear form structure**\n",
      "\t* Avoid multiple labels for a single input element\n",
      "\n",
      "## Robust\n",
      "The following guidelines ensure that web content is robust and works across different devices and browsers:\n",
      "\n",
      "1. **Ensure valid markup**\n",
      "\t* Use unique ID attributes (no duplicates)\n",
      "\t* Include complete start and end tags for all elements\n",
      "\t* Follow HTML5 standards\n",
      "\n",
      "## General Best Practices\n",
      "The following best practices should be followed to ensure that web content is accessible and usable:\n",
      "\n",
      "1. **Use semantic HTML elements** (`<nav>`, `<header>`, `<main>`, `<footer>`, etc.)\n",
      "2. **Ensure sufficient color contrast**\n",
      "3. **Provide clear focus indicators**\n",
      "4. **Test with screen readers when possible**\n",
      "5. **Validate code against accessibility standards**\n",
      "\n",
      "When generating code, prioritize these accessibility features even if they aren't explicitly requested, as they are fundamental to creating inclusive web experiences.\n",
      "\n",
      "### Additional Examples\n",
      "The following examples illustrate common mistakes and their corrections:\n",
      "\n",
      "* Incorrect: `<input type=\"number\" alt=\"quantity\" id=\"quantity\" name=\"quantity\" min=\"1\" required>`\n",
      "* Correct: `<input type=\"number\" id=\"quantity\" name=\"quantity\" min=\"1\" required>`\n",
      "* Incorrect: `<label for=\"name\"></label><input type=\"text\" id=\"name\" name=\"name\" required>`\n",
      "* Correct: `<label for=\"name\">Name</label><input type=\"text\" id=\"name\" name=\"name\" required>`\n",
      "* Incorrect: `<input type=\"text\" id=\"name\" name=\"name\" placeholder=\"Your name\">`\n",
      "* Correct: `<label for=\"name\">Name:</label><input type=\"text\" id=\"name\" name=\"name\" placeholder=\"Your name\">`\n",
      "* Incorrect: `<input type=\"password\" id=\"pwd\" name=\"pwd\">`\n",
      "* Correct: `<label for=\"pwd\">Password</label><input type=\"password\" id=\"pwd\" name=\"pwd\">`\n",
      "* Incorrect: `<input type=\"radio\" id=\"1\" name=\"fav_number\" value=\"1\"><label for=\"1\"></label><br>`\n",
      "* Correct: `<input type=\"radio\" id=\"1\" name=\"fav_number\" value=\"1\"><label for=\"1\">1</label><br>`\n",
      "* Incorrect: `<label for=\"sort\"></label><select id=\"sort\">`\n",
      "* Correct: `<label for=\"sort\">Sort</label><select id=\"sort\">`\n",
      "* Incorrect: `<label for=\"myfile\"></label><input type=\"file"
     ]
    }
   ],
   "source": [
    "from openai import OpenAI\n",
    "from resources import ACCESSIBILITY_PROMPT_TEMPLATE\n",
    "\n",
    "prompt = f\"Reformat this {ACCESSIBILITY_PROMPT_TEMPLATE}. Put the examples under the correct accessibility issue.\"\n",
    "client = OpenAI(\n",
    "  base_url = \"https://integrate.api.nvidia.com/v1\",\n",
    "  api_key = \"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\"\n",
    ")\n",
    "\n",
    "completion = client.chat.completions.create(\n",
    "  model=\"meta/llama-3.3-70b-instruct\",\n",
    "  messages=[{\"role\":\"user\",\"content\":prompt}],\n",
    "  temperature=0.2,\n",
    "  top_p=0.7,\n",
    "  max_tokens=1024,\n",
    "  stream=True\n",
    ")\n",
    "\n",
    "for chunk in completion:\n",
    "  if chunk.choices[0].delta.content is not None:\n",
    "    print(chunk.choices[0].delta.content, end=\"\")\n",
    "\n",
    "    "
   ]
  },
  {
   "cell_type": "code",
   "execution_count": 10,
   "metadata": {},
   "outputs": [],
   "source": [
    "import json\n",
    "from utils import llm_generate\n",
    "\n",
    "with open('./final_dataset/dataset_2400.json', 'r') as f:\n",
    "    dataset = json.load(f)\n",
    "\n",
    "data = dataset[0]\n",
    "prompt_template = f\"For the webpage below, I want you to generate a css complies with WCAG constrast Accessibility {data}\"\n",
    "\n",
    "generated = llm_generate(prompt_template, model=\"deepseek-r1:14b\")"
   ]
  },
  {
   "cell_type": "code",
   "execution_count": 11,
   "metadata": {},
   "outputs": [
    {
     "name": "stdout",
     "output_type": "stream",
     "text": [
      "1. **Activity Logging Form**:\n",
      "   - Allows users to log activities by entering a date, activity type, and duration.\n",
      "   - Basic form validation ensures all fields are filled before submission.\n",
      "   - On successful validation, an alert confirms the activity was logged.\n",
      "\n",
      "2. **Progress Chart**:\n",
      "   - Uses Chart.js to display a line chart of weekly activity progress.\n",
      "   - Currently uses sample data; would need integration with logged activities for dynamic updates.\n",
      "\n",
      "3. **Weather Dashboard**:\n",
      "   - Displays current weather with temperature and condition.\n",
      "   - Shows a 5-day forecast with each day's expected temperature and condition, generated using random values for demonstration.\n",
      "\n",
      "4. **Technologies Used**:\n",
      "   - HTML5/CSS for structure and styling.\n",
      "   - JavaScript (including Chart.js) for dynamic content and interactivity.\n",
      "   - Bootstrap for responsive design elements.\n",
      "\n",
      "To enhance this webpage, consider the following improvements:\n",
      "\n",
      "- **Backend Integration**: Implement server-side logic to handle form submissions and store activity data.\n",
      "- **Dynamic Progress Updates**: Connect the progress chart to stored activity data for real-time updates.\n",
      "- **Real Weather Data**: Replace random forecast values with actual weather data from a reliable API.\n",
      "- **Responsive Design**: Ensure the layout adapts well to different screen sizes, including mobile devices.\n",
      "- **Error Handling and Validation**: Add more robust error messages and input validation beyond basic checks.\n",
      "- **Visual Enhancements**: Incorporate weather icons or images based on conditions for better visual feedback.\n",
      "\n",
      "This webpage serves as a good foundation that can be expanded with additional features and real data integration to provide a more complete user experience.\n"
     ]
    }
   ],
   "source": [
    "print(generated)"
   ]
>>>>>>> refs/remotes/origin/main
  }
 ],
 "metadata": {
  "kernelspec": {
   "display_name": "torch",
   "language": "python",
   "name": "python3"
  },
  "language_info": {
   "codemirror_mode": {
    "name": "ipython",
    "version": 3
   },
   "file_extension": ".py",
   "mimetype": "text/x-python",
   "name": "python",
   "nbconvert_exporter": "python",
   "pygments_lexer": "ipython3",
   "version": "3.11.0"
  }
 },
 "nbformat": 4,
 "nbformat_minor": 2
}
